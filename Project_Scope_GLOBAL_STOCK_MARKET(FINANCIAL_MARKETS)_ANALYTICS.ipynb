{
  "nbformat": 4,
  "nbformat_minor": 0,
  "metadata": {
    "colab": {
      "provenance": [],
      "toc_visible": true,
      "authorship_tag": "ABX9TyPiGT+uode4DqK04syjZx89",
      "include_colab_link": true
    },
    "kernelspec": {
      "name": "python3",
      "display_name": "Python 3"
    },
    "language_info": {
      "name": "python"
    }
  },
  "cells": [
    {
      "cell_type": "markdown",
      "metadata": {
        "id": "view-in-github",
        "colab_type": "text"
      },
      "source": [
        "<a href=\"https://colab.research.google.com/github/kamsibrahim/python-random-quote/blob/master/Project_Scope_GLOBAL_STOCK_MARKET(FINANCIAL_MARKETS)_ANALYTICS.ipynb\" target=\"_parent\"><img src=\"https://colab.research.google.com/assets/colab-badge.svg\" alt=\"Open In Colab\"/></a>"
      ]
    },
    {
      "cell_type": "markdown",
      "source": [
        "Project Scope: GLOBAL STOCK MARKET(FINANCIAL MARKETS) ANALYTICS\n",
        "\n",
        "Objectives:\n",
        "\n",
        "1.\tComparative Study of Global Markets – Returns, Volatility, Correlations.\n",
        "\n",
        "2.\tPredicting Nifty 50 open direction based on global indicators.(you can decide the target market-I have considered India for which Nifty50 is the benchmark index)\n",
        "\n",
        "3.\tSentiment Analysis of Nifty 50 using X(twitter) data\n",
        "Phase 1 is all about creating master data:\n",
        "\n",
        "1.\tList down global market indices:\n",
        "a.\tNifty 50\n",
        "b.\tDow Jones Index\n",
        "c.\tNasdaq\n",
        "d.\tHang Seng\n",
        "e.\tNikkei 225\n",
        "f.\tDax\n",
        "\n",
        "2.\tCheck symbols for each of the index above which will help you to fetch data\n",
        "\n",
        "3.\tCheck R/Python syntax to download data for each index for Six years.(from 1st Jan 2018 till 31st December 2023-OHLC Data)\n",
        "\n",
        "4.\tAdd USA VIX data for Six years (Volatility Index- Fear Factor)\n",
        "\n",
        "5.\tCalculate daily returns based on close prices of each index: ( Yt-Yt-1)/(Yt-1)  * 100\n",
        "\n",
        "6.\tCheck if daily returns follow Normal distribution\n",
        "\n",
        "7.\tRename variables in each file (Example: Nifty50_Open,Nifty50_Adjclose)\n",
        "\n",
        "8.\tMerge all the above files with outer join (note that holidays are different globally)\n",
        "\n",
        "9.\tImpute missing data using LOCF method\n",
        "\n",
        "10.\tCreate indicator variable for “Quarter”\n",
        "\n",
        "11.\tCreate indicator variable for “Month”\n"
      ],
      "metadata": {
        "id": "4f0loO7wSwCJ"
      }
    },
    {
      "cell_type": "code",
      "execution_count": null,
      "metadata": {
        "id": "M3Ga6b4E3IHZ"
      },
      "outputs": [],
      "source": [
        "###1.\tList down global market indices:\n",
        "a.\tDow Jones Index-North America\n",
        "b.\tFTSE 100-UK\n",
        "c.\tHang Seng Index-Hong Kong\n",
        "d.\tNikkei 225-Japan\n",
        "e.\tDax-Germany\n"
      ]
    },
    {
      "cell_type": "markdown",
      "source": [],
      "metadata": {
        "id": "A2nGf8MpSsKX"
      }
    },
    {
      "cell_type": "code",
      "source": [
        "###2.\tCheck symbols for each of the index above which will help you to fetch data\n",
        "a.\t \"Dow Jones\" = \"^DJI\",\n",
        "b.\t \"FTSE 100\" = \"^FTSE\",\n",
        "c.\t \"Hang Seng Index\" = \"^HSI\",\n",
        "d.\t\"Nikkei 225\" = \"^N225\",\n",
        "e.\t \"DAX\" = \"^GDAXI\",\n"
      ],
      "metadata": {
        "id": "HoK32Mhy3fXt"
      },
      "execution_count": null,
      "outputs": []
    },
    {
      "cell_type": "markdown",
      "source": [
        "3.\tCheck R/Python syntax to download data for each index for Six years.(from 1st Jan 2018 till 31st December 2023-OHLC Data)"
      ],
      "metadata": {
        "id": "jUpcOHlV77Gl"
      }
    },
    {
      "cell_type": "code",
      "source": [
        "pip install yfinance"
      ],
      "metadata": {
        "colab": {
          "base_uri": "https://localhost:8080/"
        },
        "id": "piQUfl-f7-Ql",
        "outputId": "85d5783b-e419-420a-dafb-894acc9f6076"
      },
      "execution_count": 27,
      "outputs": [
        {
          "output_type": "stream",
          "name": "stdout",
          "text": [
            "Requirement already satisfied: yfinance in /usr/local/lib/python3.10/dist-packages (0.2.49)\n",
            "Requirement already satisfied: pandas>=1.3.0 in /usr/local/lib/python3.10/dist-packages (from yfinance) (2.2.2)\n",
            "Requirement already satisfied: numpy>=1.16.5 in /usr/local/lib/python3.10/dist-packages (from yfinance) (1.26.4)\n",
            "Requirement already satisfied: requests>=2.31 in /usr/local/lib/python3.10/dist-packages (from yfinance) (2.32.3)\n",
            "Requirement already satisfied: multitasking>=0.0.7 in /usr/local/lib/python3.10/dist-packages (from yfinance) (0.0.11)\n",
            "Requirement already satisfied: lxml>=4.9.1 in /usr/local/lib/python3.10/dist-packages (from yfinance) (5.3.0)\n",
            "Requirement already satisfied: platformdirs>=2.0.0 in /usr/local/lib/python3.10/dist-packages (from yfinance) (4.3.6)\n",
            "Requirement already satisfied: pytz>=2022.5 in /usr/local/lib/python3.10/dist-packages (from yfinance) (2024.2)\n",
            "Requirement already satisfied: frozendict>=2.3.4 in /usr/local/lib/python3.10/dist-packages (from yfinance) (2.4.6)\n",
            "Requirement already satisfied: peewee>=3.16.2 in /usr/local/lib/python3.10/dist-packages (from yfinance) (3.17.8)\n",
            "Requirement already satisfied: beautifulsoup4>=4.11.1 in /usr/local/lib/python3.10/dist-packages (from yfinance) (4.12.3)\n",
            "Requirement already satisfied: html5lib>=1.1 in /usr/local/lib/python3.10/dist-packages (from yfinance) (1.1)\n",
            "Requirement already satisfied: soupsieve>1.2 in /usr/local/lib/python3.10/dist-packages (from beautifulsoup4>=4.11.1->yfinance) (2.6)\n",
            "Requirement already satisfied: six>=1.9 in /usr/local/lib/python3.10/dist-packages (from html5lib>=1.1->yfinance) (1.16.0)\n",
            "Requirement already satisfied: webencodings in /usr/local/lib/python3.10/dist-packages (from html5lib>=1.1->yfinance) (0.5.1)\n",
            "Requirement already satisfied: python-dateutil>=2.8.2 in /usr/local/lib/python3.10/dist-packages (from pandas>=1.3.0->yfinance) (2.8.2)\n",
            "Requirement already satisfied: tzdata>=2022.7 in /usr/local/lib/python3.10/dist-packages (from pandas>=1.3.0->yfinance) (2024.2)\n",
            "Requirement already satisfied: charset-normalizer<4,>=2 in /usr/local/lib/python3.10/dist-packages (from requests>=2.31->yfinance) (3.4.0)\n",
            "Requirement already satisfied: idna<4,>=2.5 in /usr/local/lib/python3.10/dist-packages (from requests>=2.31->yfinance) (3.10)\n",
            "Requirement already satisfied: urllib3<3,>=1.21.1 in /usr/local/lib/python3.10/dist-packages (from requests>=2.31->yfinance) (2.2.3)\n",
            "Requirement already satisfied: certifi>=2017.4.17 in /usr/local/lib/python3.10/dist-packages (from requests>=2.31->yfinance) (2024.8.30)\n"
          ]
        }
      ]
    },
    {
      "cell_type": "code",
      "source": [
        "import yfinance as yf\n",
        "import pandas as pd"
      ],
      "metadata": {
        "id": "tCv2j97R8J-V"
      },
      "execution_count": 30,
      "outputs": []
    },
    {
      "cell_type": "markdown",
      "source": [
        "#### Python syntax to download data for each index for Six years.(from 1st Jan 2018 till 31st December 2023-OHLC Data) -\"Dow Jones\" = \"^DJI\","
      ],
      "metadata": {
        "id": "TrEqMA-PN8Kv"
      }
    },
    {
      "cell_type": "code",
      "source": [
        "# Define the symbol for Dow Jones and the date range\n",
        "symbol = \"^DJI\"\n",
        "start_date = \"2018-01-01\"\n",
        "end_date = \"2023-12-31\"\n",
        "\n"
      ],
      "metadata": {
        "id": "aSZ6U3BI-6R9"
      },
      "execution_count": 33,
      "outputs": []
    },
    {
      "cell_type": "code",
      "source": [
        " dji_data = yf.download(\"^DJI\", start=start_date, end=end_date, progress=False)"
      ],
      "metadata": {
        "id": "F8MXC8y8_IBu"
      },
      "execution_count": 34,
      "outputs": []
    },
    {
      "cell_type": "code",
      "source": [
        "  ohlc_data = dji_data[['Open', 'High', 'Low', 'Close']]\n",
        "  print(ohlc_data.head())"
      ],
      "metadata": {
        "colab": {
          "base_uri": "https://localhost:8080/"
        },
        "id": "Sj4uIErGAyIu",
        "outputId": "b4a801df-fe5b-4760-9775-2be80e8e7c9f"
      },
      "execution_count": 36,
      "outputs": [
        {
          "output_type": "stream",
          "name": "stdout",
          "text": [
            "Price                              Open          High           Low  \\\n",
            "Ticker                             ^DJI          ^DJI          ^DJI   \n",
            "Date                                                                  \n",
            "2018-01-02 00:00:00+00:00  24809.349609  24864.189453  24741.699219   \n",
            "2018-01-03 00:00:00+00:00  24850.449219  24941.919922  24825.550781   \n",
            "2018-01-04 00:00:00+00:00  24964.859375  25105.960938  24963.269531   \n",
            "2018-01-05 00:00:00+00:00  25114.919922  25299.789062  25112.009766   \n",
            "2018-01-08 00:00:00+00:00  25308.400391  25311.990234  25235.410156   \n",
            "\n",
            "Price                             Close  \n",
            "Ticker                             ^DJI  \n",
            "Date                                     \n",
            "2018-01-02 00:00:00+00:00  24824.009766  \n",
            "2018-01-03 00:00:00+00:00  24922.679688  \n",
            "2018-01-04 00:00:00+00:00  25075.130859  \n",
            "2018-01-05 00:00:00+00:00  25295.869141  \n",
            "2018-01-08 00:00:00+00:00  25283.000000  \n"
          ]
        }
      ]
    },
    {
      "cell_type": "code",
      "source": [
        "ohlc_data.to_csv(\"dji_ohlc_2018_2023.csv\")\n",
        "print(\"Data saved to 'dji_ohlc_2018_2023.csv'\")"
      ],
      "metadata": {
        "colab": {
          "base_uri": "https://localhost:8080/"
        },
        "id": "EFaVxqHQBID-",
        "outputId": "369d7403-e1f6-4ee3-9fe1-44d59bf267d4"
      },
      "execution_count": 39,
      "outputs": [
        {
          "output_type": "stream",
          "name": "stdout",
          "text": [
            "Data saved to 'dji_ohlc_2018_2023.csv'\n"
          ]
        }
      ]
    },
    {
      "cell_type": "code",
      "source": [
        "import os\n",
        "print(os.getcwd())"
      ],
      "metadata": {
        "colab": {
          "base_uri": "https://localhost:8080/"
        },
        "id": "miepCFFTE3WS",
        "outputId": "3493c022-fefd-4a75-faa7-b8ffda4b8b05"
      },
      "execution_count": null,
      "outputs": [
        {
          "output_type": "stream",
          "name": "stdout",
          "text": [
            "/content\n"
          ]
        }
      ]
    },
    {
      "cell_type": "markdown",
      "source": [
        "4.\tAdd USA VIX data for Six years (Volatility Index- Fear Factor)"
      ],
      "metadata": {
        "id": "nE-AEQGGLCGW"
      }
    },
    {
      "cell_type": "markdown",
      "source": [],
      "metadata": {
        "id": "GW9B9uFfwjS5"
      }
    },
    {
      "cell_type": "code",
      "source": [
        "import yfinance as yf\n",
        "from google.colab import files"
      ],
      "metadata": {
        "id": "O1nwB7QHLFin"
      },
      "execution_count": 40,
      "outputs": []
    },
    {
      "cell_type": "code",
      "source": [
        "# Define the symbol for VIX and the date range\n",
        "symbol_vix = \"^VIX\"\n",
        "start_date = \"2018-01-01\"\n",
        "end_date = \"2023-12-31\"\n",
        "vix_data = yf.download(symbol_vix, start=start_date, end=end_date, progress=False)\n"
      ],
      "metadata": {
        "id": "7JS6kxV7LlWw"
      },
      "execution_count": 43,
      "outputs": []
    },
    {
      "cell_type": "code",
      "source": [
        "ohlc_vix_data = vix_data[['Open', 'High', 'Low', 'Close']]"
      ],
      "metadata": {
        "id": "N_8VBo08L51n"
      },
      "execution_count": 44,
      "outputs": []
    },
    {
      "cell_type": "code",
      "source": [
        "file_name_vix = \"usa_vix_ohlc_2018_2023.csv\""
      ],
      "metadata": {
        "id": "Y0KkmH8-MOpu"
      },
      "execution_count": 45,
      "outputs": []
    },
    {
      "cell_type": "code",
      "source": [
        "ohlc_vix_data.to_csv(file_name_vix)"
      ],
      "metadata": {
        "id": "c9MWcin0Mb3u"
      },
      "execution_count": 46,
      "outputs": []
    },
    {
      "cell_type": "code",
      "source": [
        "print(f\"VIX data saved to '{file_name_vix}'\")"
      ],
      "metadata": {
        "colab": {
          "base_uri": "https://localhost:8080/"
        },
        "id": "ysxBdzaSWlVz",
        "outputId": "4ce2b925-1ed8-4c32-915e-8e6ee8155a61"
      },
      "execution_count": 47,
      "outputs": [
        {
          "output_type": "stream",
          "name": "stdout",
          "text": [
            "VIX data saved to 'usa_vix_ohlc_2018_2023.csv'\n"
          ]
        }
      ]
    },
    {
      "cell_type": "code",
      "source": [
        "files.download(file_name_vix)"
      ],
      "metadata": {
        "colab": {
          "base_uri": "https://localhost:8080/",
          "height": 17
        },
        "id": "YuPCymVlMiJH",
        "outputId": "44055474-6d2a-4825-bcf5-645c4c091c8d"
      },
      "execution_count": 62,
      "outputs": [
        {
          "output_type": "display_data",
          "data": {
            "text/plain": [
              "<IPython.core.display.Javascript object>"
            ],
            "application/javascript": [
              "\n",
              "    async function download(id, filename, size) {\n",
              "      if (!google.colab.kernel.accessAllowed) {\n",
              "        return;\n",
              "      }\n",
              "      const div = document.createElement('div');\n",
              "      const label = document.createElement('label');\n",
              "      label.textContent = `Downloading \"${filename}\": `;\n",
              "      div.appendChild(label);\n",
              "      const progress = document.createElement('progress');\n",
              "      progress.max = size;\n",
              "      div.appendChild(progress);\n",
              "      document.body.appendChild(div);\n",
              "\n",
              "      const buffers = [];\n",
              "      let downloaded = 0;\n",
              "\n",
              "      const channel = await google.colab.kernel.comms.open(id);\n",
              "      // Send a message to notify the kernel that we're ready.\n",
              "      channel.send({})\n",
              "\n",
              "      for await (const message of channel.messages) {\n",
              "        // Send a message to notify the kernel that we're ready.\n",
              "        channel.send({})\n",
              "        if (message.buffers) {\n",
              "          for (const buffer of message.buffers) {\n",
              "            buffers.push(buffer);\n",
              "            downloaded += buffer.byteLength;\n",
              "            progress.value = downloaded;\n",
              "          }\n",
              "        }\n",
              "      }\n",
              "      const blob = new Blob(buffers, {type: 'application/binary'});\n",
              "      const a = document.createElement('a');\n",
              "      a.href = window.URL.createObjectURL(blob);\n",
              "      a.download = filename;\n",
              "      div.appendChild(a);\n",
              "      a.click();\n",
              "      div.remove();\n",
              "    }\n",
              "  "
            ]
          },
          "metadata": {}
        },
        {
          "output_type": "display_data",
          "data": {
            "text/plain": [
              "<IPython.core.display.Javascript object>"
            ],
            "application/javascript": [
              "download(\"download_acfef7a1-7af7-4941-9e03-d7b02ba4b9d9\", \"usa_vix_ohlc_2018_2023.csv\", 148907)"
            ]
          },
          "metadata": {}
        }
      ]
    },
    {
      "cell_type": "markdown",
      "source": [
        "4.\tAdd USA VIX data for Six years (Volatility Index- Fear Factor)"
      ],
      "metadata": {
        "id": "h4mavKaEX9z7"
      }
    },
    {
      "cell_type": "code",
      "source": [
        "symbol_dji = \"^DJI\"\n",
        "symbol_vix = \"^VIX\"\n",
        "start_date = \"2018-01-01\"\n",
        "end_date = \"2023-12-31\"\n",
        "dji_data = yf.download(symbol_dji, start=start_date, end=end_date, progress=False)\n",
        "dji_data = dji_data[['Open', 'High', 'Low', 'Close']]\n",
        "dji_data.rename(columns={\n",
        "        'Open': 'DJI_Open', 'High': 'DJI_High',\n",
        "        'Low': 'DJI_Low', 'Close': 'DJI_Close'}, inplace=True)\n"
      ],
      "metadata": {
        "id": "vnsAiQsBYChK"
      },
      "execution_count": 58,
      "outputs": []
    },
    {
      "cell_type": "markdown",
      "source": [
        " # Download VIX data"
      ],
      "metadata": {
        "id": "xfuDQYJ6Nttd"
      }
    },
    {
      "cell_type": "code",
      "source": [
        " vix_data = yf.download(symbol_vix, start=start_date, end=end_date, progress=False)\n",
        " vix_data = vix_data[['Close']]\n",
        " vix_data.rename(columns={'Close': 'VIX_Close'}, inplace=True)"
      ],
      "metadata": {
        "id": "yUFGyP1WNuz6"
      },
      "execution_count": 63,
      "outputs": []
    },
    {
      "cell_type": "markdown",
      "source": [
        "# Merge the two datasets on Date"
      ],
      "metadata": {
        "id": "Ylcoyh7-N_WT"
      }
    },
    {
      "cell_type": "code",
      "source": [
        "  combined_data = pd.merge(dji_data, vix_data, left_index=True, right_index=True, how='inner')"
      ],
      "metadata": {
        "id": "Sguri6C5OAnb"
      },
      "execution_count": 64,
      "outputs": []
    },
    {
      "cell_type": "markdown",
      "source": [
        " # Save the combined data to a new CSV file"
      ],
      "metadata": {
        "id": "IRkK9BsYOGgT"
      }
    },
    {
      "cell_type": "code",
      "source": [
        " combined_data.to_csv(\"dji_vix_ohlc_2018_2023.csv\")\n",
        " print(\"Combined DJI and VIX data saved to 'dji_vix_ohlc_2018_2023.csv'\")"
      ],
      "metadata": {
        "colab": {
          "base_uri": "https://localhost:8080/"
        },
        "id": "hh16-3iHOHYM",
        "outputId": "808528c1-7661-4be5-b5b8-5ec3d61da1f4"
      },
      "execution_count": 66,
      "outputs": [
        {
          "output_type": "stream",
          "name": "stdout",
          "text": [
            "Combined DJI and VIX data saved to 'dji_vix_ohlc_2018_2023.csv'\n"
          ]
        }
      ]
    },
    {
      "cell_type": "markdown",
      "source": [
        "5.\tCalculate daily returns based on close prices of each index: ( Yt-Yt-1)/(Yt-1)  * 100\n",
        "  # Compute daily returns based on Close prices"
      ],
      "metadata": {
        "id": "36nIUjLbO63w"
      }
    },
    {
      "cell_type": "code",
      "source": [
        "dji_data = yf.download(\"^DJI\", start=start_date, end=end_date, progress=False)\n"
      ],
      "metadata": {
        "id": "ShV6_T-_PHq_"
      },
      "execution_count": 67,
      "outputs": []
    },
    {
      "cell_type": "code",
      "source": [
        "dji_data['Daily Return'] = dji_data['Close'].pct_change() * 100\n",
        "\n",
        "\n"
      ],
      "metadata": {
        "id": "Yo-Mj0UjPZZw"
      },
      "execution_count": 68,
      "outputs": []
    },
    {
      "cell_type": "code",
      "source": [
        " print(dji_data[['Close', 'Daily Return']].head())"
      ],
      "metadata": {
        "colab": {
          "base_uri": "https://localhost:8080/"
        },
        "id": "iHeHlk60Pys4",
        "outputId": "519c2dac-41e0-45b4-d5c7-42a064eeb606"
      },
      "execution_count": 103,
      "outputs": [
        {
          "output_type": "stream",
          "name": "stdout",
          "text": [
            "Price                             Close Daily Return\n",
            "Ticker                             ^DJI             \n",
            "Date                                                \n",
            "2018-01-02 00:00:00+00:00  24824.009766          NaN\n",
            "2018-01-03 00:00:00+00:00  24922.679688          NaN\n",
            "2018-01-04 00:00:00+00:00  25075.130859          NaN\n",
            "2018-01-05 00:00:00+00:00  25295.869141          NaN\n",
            "2018-01-08 00:00:00+00:00  25283.000000          NaN\n"
          ]
        }
      ]
    },
    {
      "cell_type": "markdown",
      "source": [
        "# Save the results to CSV"
      ],
      "metadata": {
        "id": "MN_9UCrvP76X"
      }
    },
    {
      "cell_type": "code",
      "source": [
        "dji_data[['Close', 'Daily Return']].to_csv(\"dji_daily_returns_2018_2023.csv\")"
      ],
      "metadata": {
        "id": "iq1Jj0s5QUk3"
      },
      "execution_count": 69,
      "outputs": []
    },
    {
      "cell_type": "code",
      "source": [
        "print(\"Daily returns saved to 'dji_daily_returns_2018_2023.csv'\")"
      ],
      "metadata": {
        "colab": {
          "base_uri": "https://localhost:8080/"
        },
        "id": "G-jkaVLqQjnP",
        "outputId": "5eb385e9-f2fb-491a-c0e5-edace089f8cd"
      },
      "execution_count": 70,
      "outputs": [
        {
          "output_type": "stream",
          "name": "stdout",
          "text": [
            "Daily returns saved to 'dji_daily_returns_2018_2023.csv'\n"
          ]
        }
      ]
    },
    {
      "cell_type": "code",
      "source": [
        "dji_data = yf.download(symbol, start=start_date, end=end_date, progress=False)"
      ],
      "metadata": {
        "id": "t6Hwyd4ARgBQ"
      },
      "execution_count": 71,
      "outputs": []
    },
    {
      "cell_type": "markdown",
      "source": [
        " # Select the Close prices"
      ],
      "metadata": {
        "id": "cgZ_4J18RjnY"
      }
    },
    {
      "cell_type": "code",
      "source": [
        "close_prices = dji_data['Close']"
      ],
      "metadata": {
        "id": "ngSgT8r0Rk1X"
      },
      "execution_count": 72,
      "outputs": []
    },
    {
      "cell_type": "code",
      "source": [],
      "metadata": {
        "id": "UTrS6C6URhao"
      },
      "execution_count": null,
      "outputs": []
    },
    {
      "cell_type": "markdown",
      "source": [
        " # Calculate daily returns"
      ],
      "metadata": {
        "id": "hbdT9lgaRr5I"
      }
    },
    {
      "cell_type": "code",
      "source": [],
      "metadata": {
        "id": "XhkqhbOfRtAJ"
      },
      "execution_count": null,
      "outputs": []
    },
    {
      "cell_type": "code",
      "source": [
        " daily_returns = close_prices.pct_change() * 100  # (Yt - Yt-1) / Yt-1 * 100"
      ],
      "metadata": {
        "id": "tAPLXHu9Ruoh"
      },
      "execution_count": 73,
      "outputs": []
    },
    {
      "cell_type": "markdown",
      "source": [
        " # Add daily returns as a new column to the original DataFrame"
      ],
      "metadata": {
        "id": "JDi5u2HDRyQi"
      }
    },
    {
      "cell_type": "code",
      "source": [],
      "metadata": {
        "id": "g0jvfOL-RzI_"
      },
      "execution_count": null,
      "outputs": []
    },
    {
      "cell_type": "code",
      "source": [
        "dji_data['Daily Return (%)'] = daily_returns"
      ],
      "metadata": {
        "id": "Fx1CTAZsR0lR"
      },
      "execution_count": 74,
      "outputs": []
    },
    {
      "cell_type": "markdown",
      "source": [
        " # Display the first few rows"
      ],
      "metadata": {
        "id": "uByq0yFKR3Px"
      }
    },
    {
      "cell_type": "code",
      "source": [
        "print(dji_data[['Close', 'Daily Return (%)']].head())"
      ],
      "metadata": {
        "colab": {
          "base_uri": "https://localhost:8080/"
        },
        "id": "rPLPSNbGR4BZ",
        "outputId": "03ed4f9c-b9af-42ef-d311-0a397e6bd889"
      },
      "execution_count": null,
      "outputs": [
        {
          "output_type": "stream",
          "name": "stdout",
          "text": [
            "Price                             Close Daily Return (%)\n",
            "Ticker                             ^DJI                 \n",
            "Date                                                    \n",
            "2018-01-02 00:00:00+00:00  24824.009766              NaN\n",
            "2018-01-03 00:00:00+00:00  24922.679688         0.397478\n",
            "2018-01-04 00:00:00+00:00  25075.130859         0.611697\n",
            "2018-01-05 00:00:00+00:00  25295.869141         0.880308\n",
            "2018-01-08 00:00:00+00:00  25283.000000        -0.050874\n"
          ]
        }
      ]
    },
    {
      "cell_type": "markdown",
      "source": [
        " # Save to a CSV file"
      ],
      "metadata": {
        "id": "u3OnhRwuR8UZ"
      }
    },
    {
      "cell_type": "code",
      "source": [
        "dji_data[['Close', 'Daily Return (%)']].to_csv(\"dji_daily_returns_2018_2023.csv\")\n"
      ],
      "metadata": {
        "id": "8YgBkKnLR5ao"
      },
      "execution_count": 75,
      "outputs": []
    },
    {
      "cell_type": "code",
      "source": [
        "print(\"Daily returns saved to 'dji_daily_returns_2018_2023.csv'\")"
      ],
      "metadata": {
        "colab": {
          "base_uri": "https://localhost:8080/"
        },
        "id": "UhI2uLgjSCXX",
        "outputId": "d0a1ec4a-e496-4ef3-ad55-e3d6dff15532"
      },
      "execution_count": 76,
      "outputs": [
        {
          "output_type": "stream",
          "name": "stdout",
          "text": [
            "Daily returns saved to 'dji_daily_returns_2018_2023.csv'\n"
          ]
        }
      ]
    },
    {
      "cell_type": "markdown",
      "source": [
        "\n",
        "7.\tRename variables in each file (Example: Nifty50_Open,Nifty50_Adjclose)\n"
      ],
      "metadata": {
        "id": "J-mFrbWkqNiL"
      }
    },
    {
      "cell_type": "markdown",
      "source": [
        " # Rename the columns"
      ],
      "metadata": {
        "id": "gCR1ph_VqYsU"
      }
    },
    {
      "cell_type": "code",
      "source": [
        "import yfinance as yf\n",
        "import pandas as pd"
      ],
      "metadata": {
        "id": "KnP2n8_pqoA8"
      },
      "execution_count": null,
      "outputs": []
    },
    {
      "cell_type": "markdown",
      "source": [
        "# Define the symbol for Dow Jones and the date range"
      ],
      "metadata": {
        "id": "DmklE_fzqr0d"
      }
    },
    {
      "cell_type": "code",
      "source": [
        "symbol = \"^DJI\"\n",
        "start_date = \"2018-01-01\"\n",
        "end_date = \"2023-12-31\"\n"
      ],
      "metadata": {
        "id": "CXzv0-nbqsvc"
      },
      "execution_count": null,
      "outputs": []
    },
    {
      "cell_type": "code",
      "source": [
        " dji_data = yf.download(\"^DJI\", start=start_date, end=end_date, progress=False)"
      ],
      "metadata": {
        "id": "efRa_zNSqzbc"
      },
      "execution_count": null,
      "outputs": []
    },
    {
      "cell_type": "markdown",
      "source": [
        "# Rename the columns"
      ],
      "metadata": {
        "id": "bwmpBNQiq5js"
      }
    },
    {
      "cell_type": "code",
      "source": [
        "renamed_columns = {\n",
        "        'Open': 'DJI_Open',\n",
        "        'High': 'DJI_High',\n",
        "        'Low': 'DJI_Low',\n",
        "        'Close': 'DJI_Close',\n",
        "        'Adj Close': 'DJI_Adj_Close',\n",
        "        'Volume': 'DJI_Volume'\n",
        "    }"
      ],
      "metadata": {
        "id": "iKhYekrIq4sr"
      },
      "execution_count": 78,
      "outputs": []
    },
    {
      "cell_type": "code",
      "source": [
        "dji_data.rename(columns=renamed_columns, inplace=True)"
      ],
      "metadata": {
        "id": "9We_DLkYrBOe"
      },
      "execution_count": 79,
      "outputs": []
    },
    {
      "cell_type": "markdown",
      "source": [
        " # Add daily returns column"
      ],
      "metadata": {
        "id": "v6VDRYwPrFYV"
      }
    },
    {
      "cell_type": "code",
      "source": [
        "dji_data['DJI_Daily_Return (%)'] = dji_data['DJI_Close'].pct_change() * 100"
      ],
      "metadata": {
        "id": "92GL5qJkrZAy"
      },
      "execution_count": 80,
      "outputs": []
    },
    {
      "cell_type": "code",
      "source": [
        "  print(dji_data.head())"
      ],
      "metadata": {
        "colab": {
          "base_uri": "https://localhost:8080/"
        },
        "id": "8MtZkhP4rb3U",
        "outputId": "4e2a5cce-50cc-4a8d-a379-732056096b0b"
      },
      "execution_count": 81,
      "outputs": [
        {
          "output_type": "stream",
          "name": "stdout",
          "text": [
            "Price                     DJI_Adj_Close     DJI_Close      DJI_High  \\\n",
            "Ticker                             ^DJI          ^DJI          ^DJI   \n",
            "Date                                                                  \n",
            "2018-01-02 00:00:00+00:00  24824.009766  24824.009766  24864.189453   \n",
            "2018-01-03 00:00:00+00:00  24922.679688  24922.679688  24941.919922   \n",
            "2018-01-04 00:00:00+00:00  25075.130859  25075.130859  25105.960938   \n",
            "2018-01-05 00:00:00+00:00  25295.869141  25295.869141  25299.789062   \n",
            "2018-01-08 00:00:00+00:00  25283.000000  25283.000000  25311.990234   \n",
            "\n",
            "Price                           DJI_Low      DJI_Open DJI_Volume  \\\n",
            "Ticker                             ^DJI          ^DJI       ^DJI   \n",
            "Date                                                               \n",
            "2018-01-02 00:00:00+00:00  24741.699219  24809.349609  341130000   \n",
            "2018-01-03 00:00:00+00:00  24825.550781  24850.449219  456790000   \n",
            "2018-01-04 00:00:00+00:00  24963.269531  24964.859375  403280000   \n",
            "2018-01-05 00:00:00+00:00  25112.009766  25114.919922  358020000   \n",
            "2018-01-08 00:00:00+00:00  25235.410156  25308.400391  341390000   \n",
            "\n",
            "Price                     Daily Return (%) DJI_Daily_Return (%)  \n",
            "Ticker                                                           \n",
            "Date                                                             \n",
            "2018-01-02 00:00:00+00:00              NaN                  NaN  \n",
            "2018-01-03 00:00:00+00:00         0.397478             0.397478  \n",
            "2018-01-04 00:00:00+00:00         0.611697             0.611697  \n",
            "2018-01-05 00:00:00+00:00         0.880308             0.880308  \n",
            "2018-01-08 00:00:00+00:00        -0.050874            -0.050874  \n"
          ]
        }
      ]
    },
    {
      "cell_type": "markdown",
      "source": [
        " # Save the modified data to a CSV file"
      ],
      "metadata": {
        "id": "DSFSQGofrf3s"
      }
    },
    {
      "cell_type": "code",
      "source": [
        "dji_data.to_csv(\"renamed_dji_2018_2023.csv\")"
      ],
      "metadata": {
        "id": "mVff3DWQrh-L"
      },
      "execution_count": 82,
      "outputs": []
    },
    {
      "cell_type": "code",
      "source": [
        "print(\"Renamed DJI data saved to 'renamed_dji_2018_2023.csv'\")"
      ],
      "metadata": {
        "colab": {
          "base_uri": "https://localhost:8080/"
        },
        "id": "YP0hA7U3rklL",
        "outputId": "aa584736-f8ef-48ad-ab80-a0058a7ff1e1"
      },
      "execution_count": 84,
      "outputs": [
        {
          "output_type": "stream",
          "name": "stdout",
          "text": [
            "Renamed DJI data saved to 'renamed_dji_2018_2023.csv'\n"
          ]
        }
      ]
    },
    {
      "cell_type": "markdown",
      "source": [
        "check if daily return follow normal distribution"
      ],
      "metadata": {
        "id": "VRd0BRJJ3vNa"
      }
    },
    {
      "cell_type": "code",
      "source": [
        "import yfinance as yf\n",
        "import pandas as pd\n",
        "import numpy as np\n",
        "import seaborn as sns\n",
        "import matplotlib.pyplot as plt\n",
        "from scipy.stats import shapiro, kstest, normaltest"
      ],
      "metadata": {
        "id": "UUfIds6F3zqr"
      },
      "execution_count": 194,
      "outputs": []
    },
    {
      "cell_type": "markdown",
      "source": [
        "# Define the symbol for Dow Jones and the date range"
      ],
      "metadata": {
        "id": "iFaJHani6S1T"
      }
    },
    {
      "cell_type": "code",
      "source": [
        "symbol = \"^DJI\"\n",
        "start_date = \"2018-01-01\"\n",
        "end_date = \"2023-12-31\""
      ],
      "metadata": {
        "id": "UnihOfFD6Wl6"
      },
      "execution_count": 197,
      "outputs": []
    },
    {
      "cell_type": "markdown",
      "source": [
        "# Download the data"
      ],
      "metadata": {
        "id": "wpnNmUJE6bkB"
      }
    },
    {
      "cell_type": "code",
      "source": [
        " dji_data = yf.download(symbol, start=start_date, end=end_date, progress=False)"
      ],
      "metadata": {
        "id": "m_GJWGQP6dSq"
      },
      "execution_count": 198,
      "outputs": []
    },
    {
      "cell_type": "markdown",
      "source": [
        "# Calculate daily returns"
      ],
      "metadata": {
        "id": "-89wkRAq6hby"
      }
    },
    {
      "cell_type": "code",
      "source": [
        " daily_returns = dji_data['Close'].pct_change() * 100"
      ],
      "metadata": {
        "id": "QzGqff6o6kjh"
      },
      "execution_count": 199,
      "outputs": []
    },
    {
      "cell_type": "markdown",
      "source": [
        "# Drop NaN values (first return is NaN due to lack of previous day's data)"
      ],
      "metadata": {
        "id": "5Kd6GOx16orJ"
      }
    },
    {
      "cell_type": "code",
      "source": [
        "daily_returns = daily_returns.dropna()"
      ],
      "metadata": {
        "id": "UVm1rkI66qlm"
      },
      "execution_count": 200,
      "outputs": []
    },
    {
      "cell_type": "markdown",
      "source": [
        " # Plot histogram of daily returns"
      ],
      "metadata": {
        "id": "C9yPKCQt6t7R"
      }
    },
    {
      "cell_type": "code",
      "source": [
        "plt.figure(figsize=(10, 6))"
      ],
      "metadata": {
        "colab": {
          "base_uri": "https://localhost:8080/",
          "height": 52
        },
        "id": "m2zFLK_n6wXR",
        "outputId": "945065a7-383e-476d-9706-15f6234051c0"
      },
      "execution_count": 201,
      "outputs": [
        {
          "output_type": "execute_result",
          "data": {
            "text/plain": [
              "<Figure size 1000x600 with 0 Axes>"
            ]
          },
          "metadata": {},
          "execution_count": 201
        },
        {
          "output_type": "display_data",
          "data": {
            "text/plain": [
              "<Figure size 1000x600 with 0 Axes>"
            ]
          },
          "metadata": {}
        }
      ]
    },
    {
      "cell_type": "code",
      "source": [
        "sns.histplot(daily_returns, kde=True, bins=50, color='blue')"
      ],
      "metadata": {
        "colab": {
          "base_uri": "https://localhost:8080/",
          "height": 447
        },
        "id": "XgfwLzQW60dD",
        "outputId": "7705b4f8-e38b-40c0-e896-9e0768450221"
      },
      "execution_count": 202,
      "outputs": [
        {
          "output_type": "execute_result",
          "data": {
            "text/plain": [
              "<Axes: ylabel='Count'>"
            ]
          },
          "metadata": {},
          "execution_count": 202
        },
        {
          "output_type": "display_data",
          "data": {
            "text/plain": [
              "<Figure size 640x480 with 1 Axes>"
            ],
            "image/png": "[encoded data removed]"
          },
          "metadata": {}
        }
      ]
    },
    {
      "cell_type": "code",
      "source": [
        " plt.title(\"Histogram of DJI Daily Returns\")"
      ],
      "metadata": {
        "colab": {
          "base_uri": "https://localhost:8080/",
          "height": 469
        },
        "id": "SRGG0DXF65vn",
        "outputId": "d42bd886-8d48-4d9d-b21d-ca173b865172"
      },
      "execution_count": 203,
      "outputs": [
        {
          "output_type": "execute_result",
          "data": {
            "text/plain": [
              "Text(0.5, 1.0, 'Histogram of DJI Daily Returns')"
            ]
          },
          "metadata": {},
          "execution_count": 203
        },
        {
          "output_type": "display_data",
          "data": {
            "text/plain": [
              "<Figure size 640x480 with 1 Axes>"
            ],
            "image/png": "[encoded data removed]"
          },
          "metadata": {}
        }
      ]
    },
    {
      "cell_type": "code",
      "source": [
        "plt.xlabel(\"Daily Returns (%)\")"
      ],
      "metadata": {
        "colab": {
          "base_uri": "https://localhost:8080/",
          "height": 472
        },
        "id": "A1mhqdYc69bB",
        "outputId": "f16c904c-dac1-409f-a9fc-a10953ac5988"
      },
      "execution_count": 204,
      "outputs": [
        {
          "output_type": "execute_result",
          "data": {
            "text/plain": [
              "Text(0.5, 0, 'Daily Returns (%)')"
            ]
          },
          "metadata": {},
          "execution_count": 204
        },
        {
          "output_type": "display_data",
          "data": {
            "text/plain": [
              "<Figure size 640x480 with 1 Axes>"
            ],
            "image/png": "[encoded data removed]"
          },
          "metadata": {}
        }
      ]
    },
    {
      "cell_type": "code",
      "source": [
        "plt.ylabel(\"Frequency\")\n",
        "plt.show()"
      ],
      "metadata": {
        "colab": {
          "base_uri": "https://localhost:8080/",
          "height": 435
        },
        "id": "bvlATisM7AfK",
        "outputId": "ddb0e897-0160-4ba3-a558-35552e3216c9"
      },
      "execution_count": 206,
      "outputs": [
        {
          "output_type": "display_data",
          "data": {
            "text/plain": [
              "<Figure size 640x480 with 1 Axes>"
            ],
            "image/png": "[encoded data removed]"
          },
          "metadata": {}
        }
      ]
    },
    {
      "cell_type": "markdown",
      "source": [
        " # Q-Q Plot"
      ],
      "metadata": {
        "id": "PlbUrPo17H4i"
      }
    },
    {
      "cell_type": "code",
      "source": [
        "from scipy.stats import probplot"
      ],
      "metadata": {
        "id": "QB-tGckY7Krz"
      },
      "execution_count": 207,
      "outputs": []
    },
    {
      "cell_type": "code",
      "source": [
        "plt.title(\"Q-Q Plot for DJI Daily Returns\")"
      ],
      "metadata": {
        "colab": {
          "base_uri": "https://localhost:8080/",
          "height": 469
        },
        "id": "5bkKCmQs7Xwm",
        "outputId": "bf834041-f281-4997-b1f1-b3ac6e05c3fd"
      },
      "execution_count": 212,
      "outputs": [
        {
          "output_type": "execute_result",
          "data": {
            "text/plain": [
              "Text(0.5, 1.0, 'Q-Q Plot for DJI Daily Returns')"
            ]
          },
          "metadata": {},
          "execution_count": 212
        },
        {
          "output_type": "display_data",
          "data": {
            "text/plain": [
              "<Figure size 640x480 with 1 Axes>"
            ],
            "image/png": "[encoded data removed]"
          },
          "metadata": {}
        }
      ]
    },
    {
      "cell_type": "code",
      "source": [
        " plt.show()"
      ],
      "metadata": {
        "id": "8MmipAyL7jYI"
      },
      "execution_count": 213,
      "outputs": []
    },
    {
      "cell_type": "markdown",
      "source": [
        "# Shapiro-Wilk Test"
      ],
      "metadata": {
        "id": "Yeyg21Sz7mBy"
      }
    },
    {
      "cell_type": "code",
      "source": [
        "stat, p = shapiro(daily_returns)"
      ],
      "metadata": {
        "id": "b0WKq6gd7nka"
      },
      "execution_count": 214,
      "outputs": []
    },
    {
      "cell_type": "code",
      "source": [
        " print(f\"Shapiro-Wilk Test: Test Statistic = {stat}, p-value = {p}\")"
      ],
      "metadata": {
        "colab": {
          "base_uri": "https://localhost:8080/"
        },
        "id": "Cy7qn_Cj7sc1",
        "outputId": "aafa942f-d4ad-492a-ebd7-5bd98ff2a46b"
      },
      "execution_count": 215,
      "outputs": [
        {
          "output_type": "stream",
          "name": "stdout",
          "text": [
            "Shapiro-Wilk Test: Test Statistic = 0.8450969629304772, p-value = 5.1171485856043466e-36\n"
          ]
        }
      ]
    },
    {
      "cell_type": "code",
      "source": [
        " if p > 0.05:\n",
        "        print(\"The daily returns are likely normally distributed (Fail to reject H0).\")\n",
        "else:\n",
        "        print(\"The daily returns are not normally distributed (Reject H0).\")"
      ],
      "metadata": {
        "colab": {
          "base_uri": "https://localhost:8080/"
        },
        "id": "vNWB70BD7vtq",
        "outputId": "77fad8ca-7fcd-40ab-f624-3c9af5a08ddf"
      },
      "execution_count": 219,
      "outputs": [
        {
          "output_type": "stream",
          "name": "stdout",
          "text": [
            "The daily returns are not normally distributed (Reject H0).\n"
          ]
        }
      ]
    },
    {
      "cell_type": "markdown",
      "source": [
        " # Kolmogorov-Smirnov Test"
      ],
      "metadata": {
        "id": "LpPYgaPq71_B"
      }
    },
    {
      "cell_type": "code",
      "source": [
        " ks_stat, ks_p = kstest(daily_returns, 'norm', args=(daily_returns.mean(), daily_returns.std()))"
      ],
      "metadata": {
        "id": "E_bnbF6_74Uc"
      },
      "execution_count": 220,
      "outputs": []
    },
    {
      "cell_type": "code",
      "source": [
        "print(f\"Kolmogorov-Smirnov Test: Test Statistic = {ks_stat}, p-value = {ks_p}\")"
      ],
      "metadata": {
        "colab": {
          "base_uri": "https://localhost:8080/"
        },
        "id": "0bFlIb-978pR",
        "outputId": "889cd8aa-e8d4-4caf-c41c-82961330b3b4"
      },
      "execution_count": 221,
      "outputs": [
        {
          "output_type": "stream",
          "name": "stdout",
          "text": [
            "Kolmogorov-Smirnov Test: Test Statistic = [0.10924995], p-value = [3.94728708e-16]\n"
          ]
        }
      ]
    },
    {
      "cell_type": "code",
      "source": [
        " if ks_p > 0.05:\n",
        "        print(\"The daily returns are likely normally distributed (Fail to reject H0).\")\n",
        "else:\n",
        "        print(\"The daily returns are not normally distributed (Reject H0).\")"
      ],
      "metadata": {
        "colab": {
          "base_uri": "https://localhost:8080/"
        },
        "id": "AMt0BEe98BW1",
        "outputId": "fc4a6bee-1173-4021-cf5a-29887e632c36"
      },
      "execution_count": 223,
      "outputs": [
        {
          "output_type": "stream",
          "name": "stdout",
          "text": [
            "The daily returns are not normally distributed (Reject H0).\n"
          ]
        }
      ]
    },
    {
      "cell_type": "markdown",
      "source": [
        "# D’Agostino and Pearson’s Test"
      ],
      "metadata": {
        "id": "pC_QPgXh8Hkr"
      }
    },
    {
      "cell_type": "code",
      "source": [
        " dag_stat, dag_p = normaltest(daily_returns)\n",
        " print(f\"D’Agostino and Pearson Test: Test Statistic = {dag_stat}, p-value = {dag_p}\")"
      ],
      "metadata": {
        "colab": {
          "base_uri": "https://localhost:8080/"
        },
        "id": "A_KsgGLI8KUy",
        "outputId": "9bf3d1ef-4740-4454-9be1-edde113f344c"
      },
      "execution_count": 225,
      "outputs": [
        {
          "output_type": "stream",
          "name": "stdout",
          "text": [
            "D’Agostino and Pearson Test: Test Statistic = [437.54099125], p-value = [9.75395946e-96]\n"
          ]
        }
      ]
    },
    {
      "cell_type": "code",
      "source": [
        "if dag_p > 0.05:\n",
        "        print(\"The daily returns are likely normally distributed (Fail to reject H0).\")\n",
        "else:\n",
        "        print(\"The daily returns are not normally distributed (Reject H0).\")"
      ],
      "metadata": {
        "colab": {
          "base_uri": "https://localhost:8080/"
        },
        "id": "BLFd-pVF8RnQ",
        "outputId": "10556855-ac49-493c-f0a0-be24a6488baa"
      },
      "execution_count": 227,
      "outputs": [
        {
          "output_type": "stream",
          "name": "stdout",
          "text": [
            "The daily returns are not normally distributed (Reject H0).\n"
          ]
        }
      ]
    },
    {
      "cell_type": "markdown",
      "source": [
        "b.\t \"FTSE 100\" = \"^FTSE\","
      ],
      "metadata": {
        "id": "UcP06TepxJx1"
      }
    },
    {
      "cell_type": "code",
      "source": [
        "import yfinance as yf\n",
        "import pandas as pd"
      ],
      "metadata": {
        "id": "DhtTpcAULPXB"
      },
      "execution_count": 86,
      "outputs": []
    },
    {
      "cell_type": "markdown",
      "source": [
        "# Define the symbol for FTSE and the date range"
      ],
      "metadata": {
        "id": "WZo8dbZ_LUsy"
      }
    },
    {
      "cell_type": "code",
      "source": [
        "symbol = \"^FTSE\"\n",
        "start_date = \"2018-01-01\"\n",
        "end_date = \"2023-12-31\""
      ],
      "metadata": {
        "id": "xCtzlieALVry"
      },
      "execution_count": 25,
      "outputs": []
    },
    {
      "cell_type": "markdown",
      "source": [
        "### download file\n",
        "#### download data for each index for Six years.(from 1st Jan 2018 till 31st December 2023-OHLC Data)"
      ],
      "metadata": {
        "id": "GVuSVQACLzpa"
      }
    },
    {
      "cell_type": "code",
      "source": [
        "ftse_data = yf.download(\"^FTSE\", start=start_date, end=end_date, progress=False)"
      ],
      "metadata": {
        "id": "BYN4n0meL3FK"
      },
      "execution_count": 87,
      "outputs": []
    },
    {
      "cell_type": "code",
      "source": [
        "ohlc_data = ftse_data[['Open', 'High', 'Low', 'Close']]"
      ],
      "metadata": {
        "id": "jHY-qNHjMA87"
      },
      "execution_count": 89,
      "outputs": []
    },
    {
      "cell_type": "code",
      "source": [
        "print(ohlc_data.head())"
      ],
      "metadata": {
        "colab": {
          "base_uri": "https://localhost:8080/"
        },
        "id": "pDAPTZiEMLDk",
        "outputId": "661146e6-4bc2-4a92-f6eb-8cac0303a289"
      },
      "execution_count": 90,
      "outputs": [
        {
          "output_type": "stream",
          "name": "stdout",
          "text": [
            "Price                             Open         High          Low        Close\n",
            "Ticker                           ^FTSE        ^FTSE        ^FTSE        ^FTSE\n",
            "Date                                                                         \n",
            "2018-01-02 00:00:00+00:00  7687.799805  7691.299805  7624.100098  7648.100098\n",
            "2018-01-03 00:00:00+00:00  7648.100098  7689.899902  7640.500000  7671.100098\n",
            "2018-01-04 00:00:00+00:00  7671.100098  7702.500000  7671.100098  7695.899902\n",
            "2018-01-05 00:00:00+00:00  7695.899902  7727.700195  7689.799805  7724.200195\n",
            "2018-01-08 00:00:00+00:00  7724.200195  7733.399902  7691.799805  7696.500000\n"
          ]
        }
      ]
    },
    {
      "cell_type": "markdown",
      "source": [
        "### save data to csv file"
      ],
      "metadata": {
        "id": "_RqRL1RKM1Oa"
      }
    },
    {
      "cell_type": "code",
      "source": [
        "ohlc_data.to_csv(\"ftse_ohlc_2018_2023.csv\")"
      ],
      "metadata": {
        "id": "e9gnB3sLM0TT"
      },
      "execution_count": 91,
      "outputs": []
    },
    {
      "cell_type": "code",
      "source": [
        "print(\"Data saved to 'ftse_ohlc_2018_2023.csv'\")"
      ],
      "metadata": {
        "colab": {
          "base_uri": "https://localhost:8080/"
        },
        "id": "XxKhki-uNJIi",
        "outputId": "bdb2d0d9-0c11-402e-e297-af37cec0f385"
      },
      "execution_count": 93,
      "outputs": [
        {
          "output_type": "stream",
          "name": "stdout",
          "text": [
            "Data saved to 'ftse_ohlc_2018_2023.csv'\n"
          ]
        }
      ]
    },
    {
      "cell_type": "markdown",
      "source": [
        "### ### Add USA VIX data for Six years (Volatility Index- Fear Factor)"
      ],
      "metadata": {
        "id": "S2kKK_vuNTtc"
      }
    },
    {
      "cell_type": "code",
      "source": [
        "import yfinance as yf\n",
        "import pandas as pd"
      ],
      "metadata": {
        "id": "l-haNUp0OFmU"
      },
      "execution_count": 65,
      "outputs": []
    },
    {
      "cell_type": "markdown",
      "source": [
        "# Define the symbol for VIX and the date range"
      ],
      "metadata": {
        "id": "2AMQmC-qNaC7"
      }
    },
    {
      "cell_type": "code",
      "source": [
        "symbol_ftse = \"^FTSE\"\n",
        "symbol_vix = \"^VIX\"\n",
        "start_date = \"2018-01-01\"\n",
        "end_date = \"2023-12-31\""
      ],
      "metadata": {
        "id": "YgemyTTaUb_a"
      },
      "execution_count": 104,
      "outputs": []
    },
    {
      "cell_type": "code",
      "source": [
        "ftse_data_data = yf.download(symbol_ftse, start=start_date, end=end_date, progress=False)"
      ],
      "metadata": {
        "id": "nWVcsVkqU3d8"
      },
      "execution_count": 105,
      "outputs": []
    },
    {
      "cell_type": "code",
      "source": [
        "ftse_data_data = ftse_data_data[['Open', 'High', 'Low', 'Close']]"
      ],
      "metadata": {
        "id": "XssO_burVCGT"
      },
      "execution_count": 99,
      "outputs": []
    },
    {
      "cell_type": "code",
      "source": [
        "ftse_data_data.rename(columns={\n",
        "        'Open': 'FTSE_Open', 'High': 'FTSE_High',\n",
        "        'Low': 'FTSE_Low', 'Close': 'FTSE_Close'}, inplace=True)"
      ],
      "metadata": {
        "id": "7vbf7jZ3VLV7"
      },
      "execution_count": 106,
      "outputs": []
    },
    {
      "cell_type": "markdown",
      "source": [
        "# Download VIX data"
      ],
      "metadata": {
        "id": "pp-uxxbLd6s9"
      }
    },
    {
      "cell_type": "code",
      "source": [
        "vix_data = yf.download(symbol_vix, start=start_date, end=end_date, progress=False)"
      ],
      "metadata": {
        "id": "y5sg81i9d58Y"
      },
      "execution_count": 107,
      "outputs": []
    },
    {
      "cell_type": "code",
      "source": [
        "vix_data = vix_data[['Close']]"
      ],
      "metadata": {
        "id": "Ya8DAQy-eCsP"
      },
      "execution_count": 109,
      "outputs": []
    },
    {
      "cell_type": "markdown",
      "source": [
        " # Keep only the Close price for VIX"
      ],
      "metadata": {
        "id": "d5SR8tgveIbf"
      }
    },
    {
      "cell_type": "code",
      "source": [
        " vix_data.rename(columns={'Close': 'VIX_Close'}, inplace=True)"
      ],
      "metadata": {
        "id": "nre7jh2-eJYb"
      },
      "execution_count": 89,
      "outputs": []
    },
    {
      "cell_type": "markdown",
      "source": [
        "# Merge the two datasets on Date"
      ],
      "metadata": {
        "id": "O1DQIqH5eN48"
      }
    },
    {
      "cell_type": "code",
      "source": [
        " combined_data = pd.merge(ftse_data, vix_data, left_index=True, right_index=True, how='inner')\n",
        "\n"
      ],
      "metadata": {
        "id": "vN6qC_zVeOys"
      },
      "execution_count": 110,
      "outputs": []
    },
    {
      "cell_type": "markdown",
      "source": [
        "# Save the combined data to a new CSV file"
      ],
      "metadata": {
        "id": "rC9CNJtCerWE"
      }
    },
    {
      "cell_type": "code",
      "source": [],
      "metadata": {
        "id": "oEUe18CiesH9"
      },
      "execution_count": null,
      "outputs": []
    },
    {
      "cell_type": "code",
      "source": [
        "combined_data.to_csv(\"dji_vix_ohlc_2018_2023.csv\")\n"
      ],
      "metadata": {
        "id": "SmfalZenetgr"
      },
      "execution_count": 111,
      "outputs": []
    },
    {
      "cell_type": "code",
      "source": [
        "print(\"Combined FTSE and VIX data saved to 'ftse_vix_ohlc_2018_2023.csv'\")"
      ],
      "metadata": {
        "colab": {
          "base_uri": "https://localhost:8080/"
        },
        "id": "52Cp6uTnfJtt",
        "outputId": "153604bf-dcfb-485f-bed6-0164a964f62e"
      },
      "execution_count": 112,
      "outputs": [
        {
          "output_type": "stream",
          "name": "stdout",
          "text": [
            "Combined FTSE and VIX data saved to 'ftse_vix_ohlc_2018_2023.csv'\n"
          ]
        }
      ]
    },
    {
      "cell_type": "code",
      "source": [],
      "metadata": {
        "id": "ipigin3wfRE0"
      },
      "execution_count": null,
      "outputs": []
    },
    {
      "cell_type": "markdown",
      "source": [
        "### Calculate daily returns based on close prices of each index: ( Yt-Yt-1)/(Yt-1) * 100"
      ],
      "metadata": {
        "id": "xCbhG2_TlO5c"
      }
    },
    {
      "cell_type": "markdown",
      "source": [
        "### Compute daily returns based on Close prices"
      ],
      "metadata": {
        "id": "reBurqimlSg9"
      }
    },
    {
      "cell_type": "code",
      "source": [
        "ftse_data = yf.download(\"^FTSE\", start=start_date, end=end_date, progress=False)"
      ],
      "metadata": {
        "id": "JCb0x8bHlUE2"
      },
      "execution_count": 113,
      "outputs": []
    },
    {
      "cell_type": "code",
      "source": [
        "ftse_data['Daily Return'] = ftse_data['Close'].pct_change() * 100"
      ],
      "metadata": {
        "id": "oHesEdQdlfUe"
      },
      "execution_count": 114,
      "outputs": []
    },
    {
      "cell_type": "code",
      "source": [
        "print(ftse_data[['Close', 'Daily Return']].head())"
      ],
      "metadata": {
        "colab": {
          "base_uri": "https://localhost:8080/"
        },
        "id": "Q7U7NQMRlk4l",
        "outputId": "af183cf1-2800-4395-868f-337b2018bae5"
      },
      "execution_count": 115,
      "outputs": [
        {
          "output_type": "stream",
          "name": "stdout",
          "text": [
            "Price                            Close Daily Return\n",
            "Ticker                           ^FTSE             \n",
            "Date                                               \n",
            "2018-01-02 00:00:00+00:00  7648.100098          NaN\n",
            "2018-01-03 00:00:00+00:00  7671.100098     0.300728\n",
            "2018-01-04 00:00:00+00:00  7695.899902     0.323289\n",
            "2018-01-05 00:00:00+00:00  7724.200195     0.367732\n",
            "2018-01-08 00:00:00+00:00  7696.500000    -0.358616\n"
          ]
        }
      ]
    },
    {
      "cell_type": "markdown",
      "source": [
        "### Save the results to CSV"
      ],
      "metadata": {
        "id": "kcBzE-k7lqk0"
      }
    },
    {
      "cell_type": "code",
      "source": [
        "ftse_data[['Close', 'Daily Return']].to_csv(\"ftse_daily_returns_2018_2023.csv\")"
      ],
      "metadata": {
        "id": "fdqgHsCJlrou"
      },
      "execution_count": 116,
      "outputs": []
    },
    {
      "cell_type": "code",
      "source": [
        "print(\"Daily returns saved to 'ftse_daily_returns_2018_2023.csv'\")"
      ],
      "metadata": {
        "colab": {
          "base_uri": "https://localhost:8080/"
        },
        "id": "XiqrXwsTlQPt",
        "outputId": "6e921765-c382-4a8d-fa14-4d6614858226"
      },
      "execution_count": 117,
      "outputs": [
        {
          "output_type": "stream",
          "name": "stdout",
          "text": [
            "Daily returns saved to 'ftse_daily_returns_2018_2023.csv'\n"
          ]
        }
      ]
    },
    {
      "cell_type": "code",
      "source": [
        "ftse_data = yf.download(symbol, start=start_date, end=end_date, progress=False)"
      ],
      "metadata": {
        "id": "dPB6nfRxl3p-"
      },
      "execution_count": 118,
      "outputs": []
    },
    {
      "cell_type": "markdown",
      "source": [
        "### Select the Close prices"
      ],
      "metadata": {
        "id": "zl-qg0KOl7U2"
      }
    },
    {
      "cell_type": "code",
      "source": [
        "close_prices = ftse_data['Close']"
      ],
      "metadata": {
        "id": "wUZSTavLl8U2"
      },
      "execution_count": 119,
      "outputs": []
    },
    {
      "cell_type": "markdown",
      "source": [
        "### Calculate daily returns"
      ],
      "metadata": {
        "id": "ZPlnIrTDmBZt"
      }
    },
    {
      "cell_type": "code",
      "source": [
        "daily_returns = close_prices.pct_change() * 100  # (Yt - Yt-1) / Yt-1 * 100"
      ],
      "metadata": {
        "id": "3BAwrHW9mCMo"
      },
      "execution_count": 133,
      "outputs": []
    },
    {
      "cell_type": "markdown",
      "source": [],
      "metadata": {
        "id": "z15du0pm4pBE"
      }
    },
    {
      "cell_type": "markdown",
      "source": [
        "### Add daily returns as a new column to the original DataFrame"
      ],
      "metadata": {
        "id": "5TSOvTURmIFF"
      }
    },
    {
      "cell_type": "code",
      "source": [
        "ftse_data['Daily Return (%)'] = daily_returns"
      ],
      "metadata": {
        "id": "IykKQyiamJTd"
      },
      "execution_count": 134,
      "outputs": []
    },
    {
      "cell_type": "markdown",
      "source": [
        "## Display the first few rows"
      ],
      "metadata": {
        "id": "H8uedxz_mO2N"
      }
    },
    {
      "cell_type": "code",
      "source": [
        "print(ftse_data[['Close', 'Daily Return (%)']].head())"
      ],
      "metadata": {
        "colab": {
          "base_uri": "https://localhost:8080/"
        },
        "id": "503FWcqRmQG-",
        "outputId": "172f6a3e-85e4-45a1-f7c2-d4ef51ca4df5"
      },
      "execution_count": 135,
      "outputs": [
        {
          "output_type": "stream",
          "name": "stdout",
          "text": [
            "Price                             Close Daily Return (%)\n",
            "Ticker                             ^DJI                 \n",
            "Date                                                    \n",
            "2018-01-02 00:00:00+00:00  24824.009766              NaN\n",
            "2018-01-03 00:00:00+00:00  24922.679688              NaN\n",
            "2018-01-04 00:00:00+00:00  25075.130859              NaN\n",
            "2018-01-05 00:00:00+00:00  25295.869141              NaN\n",
            "2018-01-08 00:00:00+00:00  25283.000000              NaN\n"
          ]
        }
      ]
    },
    {
      "cell_type": "markdown",
      "source": [
        "####  Save to a CSV file ###"
      ],
      "metadata": {
        "id": "k0NhzJ7T6PMQ"
      }
    },
    {
      "cell_type": "code",
      "source": [
        "ftse_data[['Close', 'Daily Return (%)']].to_csv(\"ftse_daily_returns_2018_2023.csv\")\n",
        "print(\"Daily returns saved to 'ftse_daily_returns_2018_2023.csv'\")"
      ],
      "metadata": {
        "colab": {
          "base_uri": "https://localhost:8080/"
        },
        "id": "1r9R-Cpr6Nt1",
        "outputId": "e6d1a374-ae4c-4cf6-8bb0-fde61d9189cc"
      },
      "execution_count": 137,
      "outputs": [
        {
          "output_type": "stream",
          "name": "stdout",
          "text": [
            "Daily returns saved to 'ftse_daily_returns_2018_2023.csv'\n"
          ]
        }
      ]
    },
    {
      "cell_type": "markdown",
      "source": [
        "\n",
        "\n",
        "###  Rename variables in each file (Example: ftse_Open,ftse_Adjclose)\n",
        "Rename the columns"
      ],
      "metadata": {
        "id": "wcyZ-EBsm0aW"
      }
    },
    {
      "cell_type": "code",
      "source": [
        "import yfinance as yf\n",
        "import pandas as pd"
      ],
      "metadata": {
        "id": "-LNzdACjm7YO"
      },
      "execution_count": 120,
      "outputs": []
    },
    {
      "cell_type": "code",
      "source": [],
      "metadata": {
        "id": "30DO17A2mcxG"
      },
      "execution_count": null,
      "outputs": []
    },
    {
      "cell_type": "markdown",
      "source": [
        "### Define the symbol for FTSE and the date range\n",
        "\n"
      ],
      "metadata": {
        "id": "JCpnYu18nMO2"
      }
    },
    {
      "cell_type": "code",
      "source": [
        "symbol = \"^FTSE\"\n",
        "start_date = \"2018-01-01\"\n",
        "end_date = \"2023-12-31\"\n",
        "FTSE_data = yf.download(\"^FTSE\", start=start_date, end=end_date, progress=False)"
      ],
      "metadata": {
        "id": "jhHBXUU-nQed"
      },
      "execution_count": 138,
      "outputs": []
    },
    {
      "cell_type": "markdown",
      "source": [
        "### Rename the columns"
      ],
      "metadata": {
        "id": "scgV_Za3ncn2"
      }
    },
    {
      "cell_type": "code",
      "source": [
        "renamed_columns = {\n",
        "        'Open': 'FTSE_Open',\n",
        "        'High': 'FTSE_High',\n",
        "        'Low': 'FTSE_Low',\n",
        "        'Close': 'FTSE_Close',\n",
        "        'Adj Close': 'FTSE_Adj_Close',\n",
        "        'Volume': 'FTSE_Volume',\n",
        "    }"
      ],
      "metadata": {
        "id": "r5IPO12KneFd"
      },
      "execution_count": 139,
      "outputs": []
    },
    {
      "cell_type": "code",
      "source": [
        "ftse_data.rename(columns=renamed_columns, inplace=True)"
      ],
      "metadata": {
        "id": "ugNCfkLW7Drv"
      },
      "execution_count": 144,
      "outputs": []
    },
    {
      "cell_type": "markdown",
      "source": [
        "### Add daily returns column"
      ],
      "metadata": {
        "id": "fYt71Tkgn9ZG"
      }
    },
    {
      "cell_type": "code",
      "source": [
        "ftse_data['FTSE_Daily_Return (%)'] = ftse_data['FTSE_Close'].pct_change() * 100\n",
        "print(ftse_data.head())"
      ],
      "metadata": {
        "colab": {
          "base_uri": "https://localhost:8080/"
        },
        "id": "YHCwsLFKn-tv",
        "outputId": "bf76d6e8-2c8f-4382-c423-a83132947f14"
      },
      "execution_count": 143,
      "outputs": [
        {
          "output_type": "stream",
          "name": "stdout",
          "text": [
            "Price                     FTSE_Adj_Close    FTSE_Close     FTSE_High  \\\n",
            "Ticker                              ^DJI          ^DJI          ^DJI   \n",
            "Date                                                                   \n",
            "2018-01-02 00:00:00+00:00   24824.009766  24824.009766  24864.189453   \n",
            "2018-01-03 00:00:00+00:00   24922.679688  24922.679688  24941.919922   \n",
            "2018-01-04 00:00:00+00:00   25075.130859  25075.130859  25105.960938   \n",
            "2018-01-05 00:00:00+00:00   25295.869141  25295.869141  25299.789062   \n",
            "2018-01-08 00:00:00+00:00   25283.000000  25283.000000  25311.990234   \n",
            "\n",
            "Price                          FTSE_Low     FTSE_Open FTSE_Volume  \\\n",
            "Ticker                             ^DJI          ^DJI        ^DJI   \n",
            "Date                                                                \n",
            "2018-01-02 00:00:00+00:00  24741.699219  24809.349609   341130000   \n",
            "2018-01-03 00:00:00+00:00  24825.550781  24850.449219   456790000   \n",
            "2018-01-04 00:00:00+00:00  24963.269531  24964.859375   403280000   \n",
            "2018-01-05 00:00:00+00:00  25112.009766  25114.919922   358020000   \n",
            "2018-01-08 00:00:00+00:00  25235.410156  25308.400391   341390000   \n",
            "\n",
            "Price                     Daily Return (%) FTSE_Daily_Return (%)  \n",
            "Ticker                                                            \n",
            "Date                                                              \n",
            "2018-01-02 00:00:00+00:00              NaN                   NaN  \n",
            "2018-01-03 00:00:00+00:00              NaN                   NaN  \n",
            "2018-01-04 00:00:00+00:00              NaN                   NaN  \n",
            "2018-01-05 00:00:00+00:00              NaN                   NaN  \n",
            "2018-01-08 00:00:00+00:00              NaN                   NaN  \n"
          ]
        }
      ]
    },
    {
      "cell_type": "markdown",
      "source": [
        "### Save the modified data to a CSV file ####"
      ],
      "metadata": {
        "id": "wFCgqp-U-w4S"
      }
    },
    {
      "cell_type": "code",
      "source": [
        "ftse_data.to_csv(\"renamed_ftse_2018_2023.csv\")\n",
        "print(\"Renamed FTSE data saved to 'renamed_ftse_2018_2023.csv'\")"
      ],
      "metadata": {
        "colab": {
          "base_uri": "https://localhost:8080/"
        },
        "id": "7YaNtc-0-2eM",
        "outputId": "a33289b1-7799-4b4e-bcc8-70d4980a1432"
      },
      "execution_count": 146,
      "outputs": [
        {
          "output_type": "stream",
          "name": "stdout",
          "text": [
            "Renamed FTSE data saved to 'renamed_ftse_2018_2023.csv'\n"
          ]
        }
      ]
    },
    {
      "cell_type": "markdown",
      "source": [],
      "metadata": {
        "id": "xb5sQU1H-myR"
      }
    },
    {
      "cell_type": "markdown",
      "source": [
        "6.\tCheck if daily returns follow Normal distribution"
      ],
      "metadata": {
        "id": "eRBLBDJ3zVmu"
      }
    },
    {
      "cell_type": "code",
      "source": [
        "import yfinance as yf\n",
        "import pandas as pd\n",
        "import numpy as np\n",
        "import seaborn as sns\n",
        "import matplotlib.pyplot as plt\n",
        "from scipy.stats import shapiro, kstest, normaltest\n"
      ],
      "metadata": {
        "id": "31xr-JQLzacq"
      },
      "execution_count": 135,
      "outputs": []
    },
    {
      "cell_type": "code",
      "source": [],
      "metadata": {
        "id": "bBE3LF_YdKgC"
      },
      "execution_count": null,
      "outputs": []
    },
    {
      "cell_type": "markdown",
      "source": [
        "# Define the symbol for FTSE and the date range"
      ],
      "metadata": {
        "id": "1l5FN4trzlrQ"
      }
    },
    {
      "cell_type": "code",
      "source": [
        "symbol = \"^FTSE\"\n",
        "start_date = \"2018-01-01\"\n",
        "end_date = \"2023-12-31\""
      ],
      "metadata": {
        "id": "oZ6-mC1dzrVj"
      },
      "execution_count": 138,
      "outputs": []
    },
    {
      "cell_type": "markdown",
      "source": [
        "# Download the data"
      ],
      "metadata": {
        "id": "KmAiQDsazxI2"
      }
    },
    {
      "cell_type": "code",
      "source": [
        "ftse_data = yf.download(symbol, start=start_date, end=end_date, progress=False)"
      ],
      "metadata": {
        "id": "LGI7bp7Wz0Kw"
      },
      "execution_count": 139,
      "outputs": []
    },
    {
      "cell_type": "markdown",
      "source": [
        "# Calculate daily returns # # Daily returns in percentage"
      ],
      "metadata": {
        "id": "zS-IWcQWz9jp"
      }
    },
    {
      "cell_type": "code",
      "source": [
        " daily_returns = ftse_data['Close'].pct_change() * 100"
      ],
      "metadata": {
        "id": "erHXLMK6z-h5"
      },
      "execution_count": 141,
      "outputs": []
    },
    {
      "cell_type": "markdown",
      "source": [
        " # Drop NaN values (first return is NaN due to lack of previous day's data)"
      ],
      "metadata": {
        "id": "9p1l690f0Mcx"
      }
    },
    {
      "cell_type": "code",
      "source": [
        " daily_returns = daily_returns.dropna()"
      ],
      "metadata": {
        "id": "a1W1TPyd0N5X"
      },
      "execution_count": 143,
      "outputs": []
    },
    {
      "cell_type": "markdown",
      "source": [
        "   # Plot histogram of daily returns"
      ],
      "metadata": {
        "id": "JJlU30Nk0cP4"
      }
    },
    {
      "cell_type": "code",
      "source": [
        " plt.figure(figsize=(10, 6))"
      ],
      "metadata": {
        "colab": {
          "base_uri": "https://localhost:8080/",
          "height": 52
        },
        "id": "GwcQE-Gk0eKA",
        "outputId": "a2cedf96-a110-4e89-c5bc-fde42596e61c"
      },
      "execution_count": 144,
      "outputs": [
        {
          "output_type": "execute_result",
          "data": {
            "text/plain": [
              "<Figure size 1000x600 with 0 Axes>"
            ]
          },
          "metadata": {},
          "execution_count": 144
        },
        {
          "output_type": "display_data",
          "data": {
            "text/plain": [
              "<Figure size 1000x600 with 0 Axes>"
            ]
          },
          "metadata": {}
        }
      ]
    },
    {
      "cell_type": "code",
      "source": [
        "sns.histplot(daily_returns, kde=True, bins=50, color='blue')"
      ],
      "metadata": {
        "colab": {
          "base_uri": "https://localhost:8080/",
          "height": 447
        },
        "id": "E-cux2pm0h-C",
        "outputId": "ba52b617-97ed-4bc7-a038-6a4c4169c580"
      },
      "execution_count": 145,
      "outputs": [
        {
          "output_type": "execute_result",
          "data": {
            "text/plain": [
              "<Axes: ylabel='Count'>"
            ]
          },
          "metadata": {},
          "execution_count": 145
        },
        {
          "output_type": "display_data",
          "data": {
            "text/plain": [
              "<Figure size 640x480 with 1 Axes>"
            ],
            "image/png": "[encoded data removed]"
          },
          "metadata": {}
        }
      ]
    },
    {
      "cell_type": "code",
      "source": [
        " plt.title(\"Histogram of FTSE Daily Returns\")"
      ],
      "metadata": {
        "colab": {
          "base_uri": "https://localhost:8080/",
          "height": 469
        },
        "id": "hHyOcfmN0msL",
        "outputId": "3dcb8498-5233-4855-c0e1-e530625d5028"
      },
      "execution_count": 146,
      "outputs": [
        {
          "output_type": "execute_result",
          "data": {
            "text/plain": [
              "Text(0.5, 1.0, 'Histogram of FTSE Daily Returns')"
            ]
          },
          "metadata": {},
          "execution_count": 146
        },
        {
          "output_type": "display_data",
          "data": {
            "text/plain": [
              "<Figure size 640x480 with 1 Axes>"
            ],
            "image/png": "[encoded data removed]"
          },
          "metadata": {}
        }
      ]
    },
    {
      "cell_type": "code",
      "source": [
        " plt.xlabel(\"Daily Returns (%)\")"
      ],
      "metadata": {
        "colab": {
          "base_uri": "https://localhost:8080/",
          "height": 472
        },
        "id": "cD-1mM1Z0z9Q",
        "outputId": "538d4206-e4a0-4f38-b811-1f1e40a0b920"
      },
      "execution_count": 147,
      "outputs": [
        {
          "output_type": "execute_result",
          "data": {
            "text/plain": [
              "Text(0.5, 0, 'Daily Returns (%)')"
            ]
          },
          "metadata": {},
          "execution_count": 147
        },
        {
          "output_type": "display_data",
          "data": {
            "text/plain": [
              "<Figure size 640x480 with 1 Axes>"
            ],
            "image/png": "[encoded data removed]"
          },
          "metadata": {}
        }
      ]
    },
    {
      "cell_type": "code",
      "source": [
        "plt.ylabel(\"Frequency\")"
      ],
      "metadata": {
        "colab": {
          "base_uri": "https://localhost:8080/",
          "height": 452
        },
        "id": "LfAimOFx04Af",
        "outputId": "ca9fe1e2-5480-4731-feb8-6f10b3a7bb9e"
      },
      "execution_count": 148,
      "outputs": [
        {
          "output_type": "execute_result",
          "data": {
            "text/plain": [
              "Text(0, 0.5, 'Frequency')"
            ]
          },
          "metadata": {},
          "execution_count": 148
        },
        {
          "output_type": "display_data",
          "data": {
            "text/plain": [
              "<Figure size 640x480 with 1 Axes>"
            ],
            "image/png": "[encoded data removed]"
          },
          "metadata": {}
        }
      ]
    },
    {
      "cell_type": "code",
      "source": [
        " plt.show()"
      ],
      "metadata": {
        "id": "WCIneYAC06oH"
      },
      "execution_count": 151,
      "outputs": []
    },
    {
      "cell_type": "markdown",
      "source": [
        "  # Q-Q Plot"
      ],
      "metadata": {
        "id": "yHfNImLP1GWp"
      }
    },
    {
      "cell_type": "code",
      "source": [
        "  from scipy.stats import probplot"
      ],
      "metadata": {
        "id": "dKqqJXba1Uvm"
      },
      "execution_count": 157,
      "outputs": []
    },
    {
      "cell_type": "code",
      "source": [
        "plt.title(\"Q-Q Plot for DJI Daily Returns\")"
      ],
      "metadata": {
        "colab": {
          "base_uri": "https://localhost:8080/",
          "height": 469
        },
        "id": "6Bt1IuyM1w3n",
        "outputId": "afb6ba63-5cf3-44ae-f3a2-7319a6aeb9da"
      },
      "execution_count": 159,
      "outputs": [
        {
          "output_type": "execute_result",
          "data": {
            "text/plain": [
              "Text(0.5, 1.0, 'Q-Q Plot for DJI Daily Returns')"
            ]
          },
          "metadata": {},
          "execution_count": 159
        },
        {
          "output_type": "display_data",
          "data": {
            "text/plain": [
              "<Figure size 640x480 with 1 Axes>"
            ],
            "image/png": "[encoded data removed]"
          },
          "metadata": {}
        }
      ]
    },
    {
      "cell_type": "code",
      "source": [
        "  plt.show()"
      ],
      "metadata": {
        "id": "35f7iaWq10E4"
      },
      "execution_count": 160,
      "outputs": []
    },
    {
      "cell_type": "markdown",
      "source": [
        " # Shapiro-Wilk Test"
      ],
      "metadata": {
        "id": "zkuJ6XsK13lQ"
      }
    },
    {
      "cell_type": "code",
      "source": [
        " stat, p = shapiro(daily_returns)"
      ],
      "metadata": {
        "id": "BENANqoO15np"
      },
      "execution_count": 161,
      "outputs": []
    },
    {
      "cell_type": "code",
      "source": [
        "print(f\"Shapiro-Wilk Test: Test Statistic = {stat}, p-value = {p}\")"
      ],
      "metadata": {
        "colab": {
          "base_uri": "https://localhost:8080/"
        },
        "id": "_BRc0c2C18eZ",
        "outputId": "493dd7bd-5c2e-4217-e951-2080ffa9158e"
      },
      "execution_count": 162,
      "outputs": [
        {
          "output_type": "stream",
          "name": "stdout",
          "text": [
            "Shapiro-Wilk Test: Test Statistic = 0.8909336750871426, p-value = 2.082761731284264e-31\n"
          ]
        }
      ]
    },
    {
      "cell_type": "code",
      "source": [
        " if p > 0.05:\n",
        "  print(\"The daily returns are likely normally distributed (Fail to reject H0).\")\n",
        "\n"
      ],
      "metadata": {
        "id": "2xhQ1Nr72Apx"
      },
      "execution_count": 174,
      "outputs": []
    },
    {
      "cell_type": "code",
      "source": [
        "if p > 0.05:\n",
        "        print(\"The daily returns are likely normally distributed (Fail to reject H0).\")\n",
        "else:\n",
        "        print(\"The daily returns are not normally distributed (Reject H0).\")"
      ],
      "metadata": {
        "colab": {
          "base_uri": "https://localhost:8080/"
        },
        "id": "yMbotB0n2qbQ",
        "outputId": "fa96d7cf-4730-4bce-cb7b-003e6640b59b"
      },
      "execution_count": 178,
      "outputs": [
        {
          "output_type": "stream",
          "name": "stdout",
          "text": [
            "The daily returns are not normally distributed (Reject H0).\n"
          ]
        }
      ]
    },
    {
      "cell_type": "markdown",
      "source": [
        "  # Kolmogorov-Smirnov Test"
      ],
      "metadata": {
        "id": "Oqby7QmZ2zyw"
      }
    },
    {
      "cell_type": "code",
      "source": [
        "ks_stat, ks_p = kstest(daily_returns, 'norm', args=(daily_returns.mean(), daily_returns.std()))"
      ],
      "metadata": {
        "id": "y7UerRpX3AUg"
      },
      "execution_count": 181,
      "outputs": []
    },
    {
      "cell_type": "code",
      "source": [
        "print(f\"Kolmogorov-Smirnov Test: Test Statistic = {ks_stat}, p-value = {ks_p}\")"
      ],
      "metadata": {
        "colab": {
          "base_uri": "https://localhost:8080/"
        },
        "id": "zokwW0Ks3FOR",
        "outputId": "973b2f4c-738f-4889-d9fd-ae9219e2c0b7"
      },
      "execution_count": 182,
      "outputs": [
        {
          "output_type": "stream",
          "name": "stdout",
          "text": [
            "Kolmogorov-Smirnov Test: Test Statistic = [0.09010286], p-value = [3.93568854e-11]\n"
          ]
        }
      ]
    },
    {
      "cell_type": "code",
      "source": [
        "if ks_p > 0.05:\n",
        "        print(\"The daily returns are likely normally distributed (Fail to reject H0).\")\n",
        "else:\n",
        "        print(\"The daily returns are not normally distributed (Reject H0).\")"
      ],
      "metadata": {
        "colab": {
          "base_uri": "https://localhost:8080/"
        },
        "id": "n4nwfGew3IOJ",
        "outputId": "582de281-a9fa-4e9e-c089-9e717ae0f789"
      },
      "execution_count": 184,
      "outputs": [
        {
          "output_type": "stream",
          "name": "stdout",
          "text": [
            "The daily returns are not normally distributed (Reject H0).\n"
          ]
        }
      ]
    },
    {
      "cell_type": "markdown",
      "source": [
        "  # D’Agostino and Pearson’s Test"
      ],
      "metadata": {
        "id": "0uAiSvoi3NV0"
      }
    },
    {
      "cell_type": "code",
      "source": [
        "dag_stat, dag_p = normaltest(daily_returns)"
      ],
      "metadata": {
        "id": "9ef3YDSi3T1-"
      },
      "execution_count": 185,
      "outputs": []
    },
    {
      "cell_type": "code",
      "source": [
        " print(f\"D’Agostino and Pearson Test: Test Statistic = {dag_stat}, p-value = {dag_p}\")"
      ],
      "metadata": {
        "colab": {
          "base_uri": "https://localhost:8080/"
        },
        "id": "iXqodDqk3VyZ",
        "outputId": "963712a4-4f18-45d2-d7a0-a2824cd2aca0"
      },
      "execution_count": 186,
      "outputs": [
        {
          "output_type": "stream",
          "name": "stdout",
          "text": [
            "D’Agostino and Pearson Test: Test Statistic = [467.83869109], p-value = [2.5711003e-102]\n"
          ]
        }
      ]
    },
    {
      "cell_type": "code",
      "source": [
        "if dag_p > 0.05:\n",
        "        print(\"The daily returns are likely normally distributed (Fail to reject H0).\")\n",
        "else:\n",
        "        print(\"The daily returns are not normally distributed (Reject H0).\")"
      ],
      "metadata": {
        "colab": {
          "base_uri": "https://localhost:8080/"
        },
        "id": "te-b5pDI3bOp",
        "outputId": "21d8c88b-2e39-48f5-974d-46cbef0bf93f"
      },
      "execution_count": 188,
      "outputs": [
        {
          "output_type": "stream",
          "name": "stdout",
          "text": [
            "The daily returns are not normally distributed (Reject H0).\n"
          ]
        }
      ]
    },
    {
      "cell_type": "markdown",
      "source": [],
      "metadata": {
        "id": "6Iu1VISU_Bgy"
      }
    },
    {
      "cell_type": "markdown",
      "source": [
        "c.\t \"Hang Seng Index\" = \"^HSI\","
      ],
      "metadata": {
        "id": "mrNym0BkDkUT"
      }
    },
    {
      "cell_type": "code",
      "source": [
        "import yfinance as yf\n",
        "import pandas as pd"
      ],
      "metadata": {
        "id": "sT--z1BCEsdj"
      },
      "execution_count": 8,
      "outputs": []
    },
    {
      "cell_type": "markdown",
      "source": [
        "# Define the symbol for \"Hang Seng Index\" and the date range"
      ],
      "metadata": {
        "id": "DU8G4xo2Ev9i"
      }
    },
    {
      "cell_type": "code",
      "source": [
        "symbol = \"^HSI\"\n",
        "start_date = \"2018-01-01\"\n",
        "end_date = \"2023-12-31\""
      ],
      "metadata": {
        "id": "mI2WTXWuE3CQ"
      },
      "execution_count": 149,
      "outputs": []
    },
    {
      "cell_type": "markdown",
      "source": [
        "### download file\n",
        "#### download data for each index for Six years.(from 1st Jan 2018 till 31st December 2023-OHLC Data)"
      ],
      "metadata": {
        "id": "P75UBPDxFB5d"
      }
    },
    {
      "cell_type": "code",
      "source": [
        "hsi_data = yf.download(\"^HSI\", start=start_date, end=end_date, progress=False)"
      ],
      "metadata": {
        "id": "4pBZ9hEZFFjJ"
      },
      "execution_count": 150,
      "outputs": []
    },
    {
      "cell_type": "code",
      "source": [
        "ohlc_data = hsi_data[['Open', 'High', 'Low', 'Close']]\n",
        "print(ohlc_data.head())"
      ],
      "metadata": {
        "colab": {
          "base_uri": "https://localhost:8080/"
        },
        "id": "4Ck_dq-mFOf5",
        "outputId": "5ef60d45-823c-418a-f683-87addbdedff2"
      },
      "execution_count": 11,
      "outputs": [
        {
          "output_type": "stream",
          "name": "stdout",
          "text": [
            "Price                              Open          High           Low  \\\n",
            "Ticker                             ^HSI          ^HSI          ^HSI   \n",
            "Date                                                                  \n",
            "2018-01-02 00:00:00+00:00  30028.289062  30515.310547  30028.289062   \n",
            "2018-01-03 00:00:00+00:00  30658.730469  30724.320312  30456.759766   \n",
            "2018-01-04 00:00:00+00:00  30691.710938  30796.929688  30560.429688   \n",
            "2018-01-05 00:00:00+00:00  30893.859375  30911.009766  30638.529297   \n",
            "2018-01-08 00:00:00+00:00  30895.089844  30929.150391  30732.539062   \n",
            "\n",
            "Price                             Close  \n",
            "Ticker                             ^HSI  \n",
            "Date                                     \n",
            "2018-01-02 00:00:00+00:00  30515.310547  \n",
            "2018-01-03 00:00:00+00:00  30560.949219  \n",
            "2018-01-04 00:00:00+00:00  30736.480469  \n",
            "2018-01-05 00:00:00+00:00  30814.640625  \n",
            "2018-01-08 00:00:00+00:00  30899.529297  \n"
          ]
        }
      ]
    },
    {
      "cell_type": "code",
      "source": [
        "ohlc_data.to_csv(\"hsi_ohlc_2018_2023.csv\")\n",
        "print(\"Data saved to 'hsi_ohlc_2018_2023.csv'\")"
      ],
      "metadata": {
        "colab": {
          "base_uri": "https://localhost:8080/"
        },
        "id": "AiMB5_jEFZr8",
        "outputId": "fe0dd8b7-92dc-4901-aa0e-19ae97e1875c"
      },
      "execution_count": 153,
      "outputs": [
        {
          "output_type": "stream",
          "name": "stdout",
          "text": [
            "Data saved to 'hsi_ohlc_2018_2023.csv'\n"
          ]
        }
      ]
    },
    {
      "cell_type": "markdown",
      "source": [
        "### Add USA VIX data for Six years (Volatility Index- Fear Factor)\n",
        "# Define the symbol for VIX and the date range\n"
      ],
      "metadata": {
        "id": "HLmDnco-Fqjj"
      }
    },
    {
      "cell_type": "code",
      "source": [
        "import yfinance as yf\n",
        "import pandas as pd"
      ],
      "metadata": {
        "id": "IS_ht084Fspp"
      },
      "execution_count": 4,
      "outputs": []
    },
    {
      "cell_type": "code",
      "source": [
        "symbol_dji = \"^HSI\"\n",
        "symbol_vix = \"^VIX\"\n",
        "start_date = \"2018-01-01\"\n",
        "end_date = \"2023-12-31\""
      ],
      "metadata": {
        "id": "PL-jmi91G5n9"
      },
      "execution_count": 157,
      "outputs": []
    },
    {
      "cell_type": "code",
      "source": [],
      "metadata": {
        "id": "B12ue8dHaPNY"
      },
      "execution_count": null,
      "outputs": []
    },
    {
      "cell_type": "markdown",
      "source": [
        "### to add VIX with  hsi\n",
        "# Download HSI data"
      ],
      "metadata": {
        "id": "3fSHh88cHANB"
      }
    },
    {
      "cell_type": "code",
      "source": [
        "hsi_data = yf.download(\"^HSI\", start=start_date, end=end_date, progress=False)\n",
        "hsi_data = hsi_data[['Open', 'High', 'Low', 'Close']]\n",
        "hsi_data.rename(columns={\n",
        "        'Open': 'HSI_Open', 'High': 'HSI_High',\n",
        "        'Low': 'HSI_Low', 'Close': 'HSI_Close'}, inplace=True)\n",
        "\n"
      ],
      "metadata": {
        "id": "Ktn506IDHn-h"
      },
      "execution_count": 159,
      "outputs": []
    },
    {
      "cell_type": "markdown",
      "source": [
        " # Download VIX data"
      ],
      "metadata": {
        "id": "wG-lQgkZH3Ea"
      }
    },
    {
      "cell_type": "code",
      "source": [
        "vix_data = yf.download(symbol_vix, start=start_date, end=end_date, progress=False)\n"
      ],
      "metadata": {
        "id": "Z0cNK1ZgH5lb"
      },
      "execution_count": 160,
      "outputs": []
    },
    {
      "cell_type": "code",
      "source": [
        " vix_data = vix_data[['Close']]"
      ],
      "metadata": {
        "id": "_FWb265UIE-i"
      },
      "execution_count": 161,
      "outputs": []
    },
    {
      "cell_type": "code",
      "source": [
        "vix_data.rename(columns={'Close': 'VIX_Close'}, inplace=True)"
      ],
      "metadata": {
        "id": "oM51a6vAIItr"
      },
      "execution_count": 162,
      "outputs": []
    },
    {
      "cell_type": "markdown",
      "source": [],
      "metadata": {
        "id": "Prh2Q305IMVc"
      }
    },
    {
      "cell_type": "markdown",
      "source": [
        "# Merge the two datasets on Date"
      ],
      "metadata": {
        "id": "D2oApPc1IOkC"
      }
    },
    {
      "cell_type": "code",
      "source": [
        "combined_data = pd.merge(hsi_data, vix_data, left_index=True, right_index=True, how='inner')"
      ],
      "metadata": {
        "id": "HeCLnjmjIQnr"
      },
      "execution_count": 163,
      "outputs": []
    },
    {
      "cell_type": "markdown",
      "source": [
        " # Save the combined data to a new CSV file\n"
      ],
      "metadata": {
        "id": "JfEluxCpIYtR"
      }
    },
    {
      "cell_type": "code",
      "source": [
        "combined_data.to_csv(\"hsi_vix_ohlc_2018_2023.csv\")\n",
        "print(\"Combined HSI and VIX data saved to 'hsi_vix_ohlc_2018_2023.csv'\")"
      ],
      "metadata": {
        "colab": {
          "base_uri": "https://localhost:8080/"
        },
        "id": "Ef_Gwk5BIc3b",
        "outputId": "f761623d-f4d7-41d9-836c-88dd60369118"
      },
      "execution_count": 164,
      "outputs": [
        {
          "output_type": "stream",
          "name": "stdout",
          "text": [
            "Combined HSI and VIX data saved to 'hsi_vix_ohlc_2018_2023.csv'\n"
          ]
        }
      ]
    },
    {
      "cell_type": "markdown",
      "source": [
        "### Calculate daily returns based on close prices of each index: ( Yt-Yt-1)/(Yt-1) * 100\n",
        "\n",
        "### Compute daily returns based on Close prices"
      ],
      "metadata": {
        "id": "2OTAIaYdMIQU"
      }
    },
    {
      "cell_type": "code",
      "source": [
        "hsi_data = yf.download(\"^HSI\", start=start_date, end=end_date, progress=False)\n",
        "hsi_data['Daily Return'] = hsi_data['Close'].pct_change() * 100\n",
        "print(hsi_data[['Close', 'Daily Return']].head())"
      ],
      "metadata": {
        "colab": {
          "base_uri": "https://localhost:8080/"
        },
        "id": "BxUTU5w5MK8W",
        "outputId": "669b79ad-ac17-40bd-c236-c5384aba1db7"
      },
      "execution_count": 165,
      "outputs": [
        {
          "output_type": "stream",
          "name": "stdout",
          "text": [
            "Price                             Close Daily Return\n",
            "Ticker                             ^HSI             \n",
            "Date                                                \n",
            "2018-01-02 00:00:00+00:00  30515.310547          NaN\n",
            "2018-01-03 00:00:00+00:00  30560.949219     0.149560\n",
            "2018-01-04 00:00:00+00:00  30736.480469     0.574365\n",
            "2018-01-05 00:00:00+00:00  30814.640625     0.254291\n",
            "2018-01-08 00:00:00+00:00  30899.529297     0.275482\n"
          ]
        }
      ]
    },
    {
      "cell_type": "markdown",
      "source": [
        "### Save the results to CSV"
      ],
      "metadata": {
        "id": "z2LFH-zkM7uv"
      }
    },
    {
      "cell_type": "code",
      "source": [
        "hsi_data[['Close', 'Daily Return']].to_csv(\"hsi_daily_returns_2018_2023.csv\")"
      ],
      "metadata": {
        "id": "BRgShX0JM_CK"
      },
      "execution_count": 17,
      "outputs": []
    },
    {
      "cell_type": "code",
      "source": [
        "print(\"Daily returns saved to 'hsi_daily_returns_2018_2023.csv'\")"
      ],
      "metadata": {
        "colab": {
          "base_uri": "https://localhost:8080/"
        },
        "id": "HOZDAu3cM9-g",
        "outputId": "9d721214-6d50-4c50-b9ad-ad9e11dfeaa9"
      },
      "execution_count": 167,
      "outputs": [
        {
          "output_type": "stream",
          "name": "stdout",
          "text": [
            "Daily returns saved to 'hsi_daily_returns_2018_2023.csv'\n"
          ]
        }
      ]
    },
    {
      "cell_type": "code",
      "source": [
        "hsi_data = yf.download(\"^HSI\", start=start_date, end=end_date, progress=False)"
      ],
      "metadata": {
        "id": "bqvtWS_RNL3M"
      },
      "execution_count": 169,
      "outputs": []
    },
    {
      "cell_type": "markdown",
      "source": [
        "### Select the Close prices"
      ],
      "metadata": {
        "id": "-6vvVLfONUEq"
      }
    },
    {
      "cell_type": "code",
      "source": [
        "close_prices = hsi_data['Close']"
      ],
      "metadata": {
        "id": "dh0PoKIpNZFK"
      },
      "execution_count": 170,
      "outputs": []
    },
    {
      "cell_type": "markdown",
      "source": [
        "### Calculate daily returns"
      ],
      "metadata": {
        "id": "dkjqo06ZNezR"
      }
    },
    {
      "cell_type": "code",
      "source": [
        "daily_returns = close_prices.pct_change() * 100  # (Yt - Yt-1) / Yt-1 * 100"
      ],
      "metadata": {
        "id": "teacL83ENhDb"
      },
      "execution_count": 171,
      "outputs": []
    },
    {
      "cell_type": "markdown",
      "source": [
        "### Add daily returns as a new column to the original DataFrame"
      ],
      "metadata": {
        "id": "QRza-_hVNmLt"
      }
    },
    {
      "cell_type": "code",
      "source": [
        "hsi_data['Daily Return (%)'] = daily_returns"
      ],
      "metadata": {
        "id": "tUUyNK2KNpGI"
      },
      "execution_count": 172,
      "outputs": []
    },
    {
      "cell_type": "markdown",
      "source": [
        "## Display the first few rows"
      ],
      "metadata": {
        "id": "xBLDp1ugNvyu"
      }
    },
    {
      "cell_type": "code",
      "source": [
        "print(hsi_data[['Close', 'Daily Return (%)']].head())"
      ],
      "metadata": {
        "colab": {
          "base_uri": "https://localhost:8080/"
        },
        "id": "8PiPoSFVNWCc",
        "outputId": "2c4fd84f-e352-4148-e268-30171f6a5357"
      },
      "execution_count": 173,
      "outputs": [
        {
          "output_type": "stream",
          "name": "stdout",
          "text": [
            "Price                             Close Daily Return (%)\n",
            "Ticker                             ^HSI                 \n",
            "Date                                                    \n",
            "2018-01-02 00:00:00+00:00  30515.310547              NaN\n",
            "2018-01-03 00:00:00+00:00  30560.949219         0.149560\n",
            "2018-01-04 00:00:00+00:00  30736.480469         0.574365\n",
            "2018-01-05 00:00:00+00:00  30814.640625         0.254291\n",
            "2018-01-08 00:00:00+00:00  30899.529297         0.275482\n"
          ]
        }
      ]
    },
    {
      "cell_type": "markdown",
      "source": [
        "### Save to a CSV file"
      ],
      "metadata": {
        "id": "2yZ4d3jfQ4QP"
      }
    },
    {
      "cell_type": "code",
      "source": [
        "hsi_data[['Close', 'Daily Return (%)']].to_csv(\"hsi_daily_returns_2018_2023.csv\")\n",
        "print(\"Daily returns saved to 'hsi_daily_returns_2018_2023.csv'\")"
      ],
      "metadata": {
        "colab": {
          "base_uri": "https://localhost:8080/"
        },
        "id": "bhnrH8l6Q7oW",
        "outputId": "3cbba45f-721d-4c86-ab94-e16d1d781d35"
      },
      "execution_count": 175,
      "outputs": [
        {
          "output_type": "stream",
          "name": "stdout",
          "text": [
            "Daily returns saved to 'hsi_daily_returns_2018_2023.csv'\n"
          ]
        }
      ]
    },
    {
      "cell_type": "markdown",
      "source": [
        "###  Rename variables in each file\n",
        "Rename the columns\n"
      ],
      "metadata": {
        "id": "-wUehoYJRMY7"
      }
    },
    {
      "cell_type": "code",
      "source": [
        "import yfinance as yf\n",
        "import pandas as pd"
      ],
      "metadata": {
        "id": "XGNM8dAARQir"
      },
      "execution_count": 50,
      "outputs": []
    },
    {
      "cell_type": "markdown",
      "source": [
        "### Define the symbol for HSI and the date range:"
      ],
      "metadata": {
        "id": "6KiQcHflRXTt"
      }
    },
    {
      "cell_type": "code",
      "source": [
        "symbol = \"^HSI\"\n",
        "start_date = \"2018-01-01\"\n",
        "end_date = \"2023-12-31\"\n",
        "hsi_data = yf.download(\"^HSI\", start=start_date, end=end_date, progress=False)"
      ],
      "metadata": {
        "id": "ofwJKLPrR2i7"
      },
      "execution_count": 178,
      "outputs": []
    },
    {
      "cell_type": "markdown",
      "source": [
        "### Rename the columns"
      ],
      "metadata": {
        "id": "c4XhN8HrSFFz"
      }
    },
    {
      "cell_type": "code",
      "source": [
        "renamed_columns = {\n",
        "        'Open': 'HSI_Open',\n",
        "        'High': 'HSI_High',\n",
        "        'Low': 'HSI_Low',\n",
        "        'Close': 'HSI_Close',\n",
        "        'Adj Close': 'HSI_Adj_Close',\n",
        "        'Volume': 'HSI_Volume'\n",
        "\n",
        "    }"
      ],
      "metadata": {
        "id": "ZNF14HFfSHLU"
      },
      "execution_count": 176,
      "outputs": []
    },
    {
      "cell_type": "code",
      "source": [
        "hsi_data.rename(columns=renamed_columns, inplace=True)"
      ],
      "metadata": {
        "id": "4Gt-R4D_BXsw"
      },
      "execution_count": 179,
      "outputs": []
    },
    {
      "cell_type": "code",
      "source": [
        "renamed_columns = {\n",
        "     'ViX_Close': 'VIX',\n",
        "    }\n",
        "\n"
      ],
      "metadata": {
        "id": "ti-I8MJWTxp8"
      },
      "execution_count": 29,
      "outputs": []
    },
    {
      "cell_type": "markdown",
      "source": [
        "### Add daily returns column"
      ],
      "metadata": {
        "id": "L403lrKqT_sb"
      }
    },
    {
      "cell_type": "code",
      "source": [
        "hsi_data['HSI_Daily_Return (%)'] = hsi_data['HSI_Close'].pct_change() * 100\n",
        "print(hsi_data.head())"
      ],
      "metadata": {
        "colab": {
          "base_uri": "https://localhost:8080/"
        },
        "id": "y6rfZuv7lWWd",
        "outputId": "b7ce8298-cbf3-4cf3-a892-375f659051ce"
      },
      "execution_count": 181,
      "outputs": [
        {
          "output_type": "stream",
          "name": "stdout",
          "text": [
            "Price                     HSI_Adj_Close     HSI_Close      HSI_High  \\\n",
            "Ticker                             ^HSI          ^HSI          ^HSI   \n",
            "Date                                                                  \n",
            "2018-01-02 00:00:00+00:00  30515.310547  30515.310547  30515.310547   \n",
            "2018-01-03 00:00:00+00:00  30560.949219  30560.949219  30724.320312   \n",
            "2018-01-04 00:00:00+00:00  30736.480469  30736.480469  30796.929688   \n",
            "2018-01-05 00:00:00+00:00  30814.640625  30814.640625  30911.009766   \n",
            "2018-01-08 00:00:00+00:00  30899.529297  30899.529297  30929.150391   \n",
            "\n",
            "Price                           HSI_Low      HSI_Open  HSI_Volume  \\\n",
            "Ticker                             ^HSI          ^HSI        ^HSI   \n",
            "Date                                                                \n",
            "2018-01-02 00:00:00+00:00  30028.289062  30028.289062  2442333400   \n",
            "2018-01-03 00:00:00+00:00  30456.759766  30658.730469  2309467700   \n",
            "2018-01-04 00:00:00+00:00  30560.429688  30691.710938  2995571100   \n",
            "2018-01-05 00:00:00+00:00  30638.529297  30893.859375  2263930100   \n",
            "2018-01-08 00:00:00+00:00  30732.539062  30895.089844  2004162500   \n",
            "\n",
            "Price                     HSI_Daily_Return (%)  \n",
            "Ticker                                          \n",
            "Date                                            \n",
            "2018-01-02 00:00:00+00:00                  NaN  \n",
            "2018-01-03 00:00:00+00:00                  NaN  \n",
            "2018-01-04 00:00:00+00:00                  NaN  \n",
            "2018-01-05 00:00:00+00:00                  NaN  \n",
            "2018-01-08 00:00:00+00:00                  NaN  \n"
          ]
        }
      ]
    },
    {
      "cell_type": "markdown",
      "source": [
        "### Save the modified data to a CSV file ####"
      ],
      "metadata": {
        "id": "L5w2if0sBj07"
      }
    },
    {
      "cell_type": "code",
      "source": [
        "hsi_data.to_csv(\"renamed_hsi_2018_2023.csv\")\n",
        "print(\"Renamed HSI data saved to 'renamed_hsi_2018_2023.csv'\")"
      ],
      "metadata": {
        "colab": {
          "base_uri": "https://localhost:8080/"
        },
        "id": "TWoAn2tyBntI",
        "outputId": "48b47eee-0705-47d1-890c-401ed4b3a680"
      },
      "execution_count": 184,
      "outputs": [
        {
          "output_type": "stream",
          "name": "stdout",
          "text": [
            "Renamed HSI data saved to 'renamed_hsi_2018_2023.csv'\n"
          ]
        }
      ]
    },
    {
      "cell_type": "markdown",
      "source": [
        "6.Check if daily returns follow Normal distribution"
      ],
      "metadata": {
        "id": "FCKkYe0hn8Ff"
      }
    },
    {
      "cell_type": "code",
      "source": [
        "import yfinance as yf\n",
        "import pandas as pd\n",
        "import numpy as np\n",
        "import seaborn as sns\n",
        "import matplotlib.pyplot as plt\n",
        "from scipy.stats import shapiro, kstest, normaltest"
      ],
      "metadata": {
        "id": "j7lE5MNPn9MN"
      },
      "execution_count": 30,
      "outputs": []
    },
    {
      "cell_type": "markdown",
      "source": [
        "# Define the symbol for HSI and the date range"
      ],
      "metadata": {
        "id": "QPEYmEMDcBZl"
      }
    },
    {
      "cell_type": "code",
      "source": [
        "symbol = \"^HSI\"\n",
        "start_date = \"2018-01-01\"\n",
        "end_date = \"2023-12-31\"\n",
        "\n"
      ],
      "metadata": {
        "id": "J681WRhscF87"
      },
      "execution_count": 35,
      "outputs": []
    },
    {
      "cell_type": "code",
      "source": [
        "hsi_data = yf.download(\"^HSI\", start=start_date, end=end_date, progress=False)"
      ],
      "metadata": {
        "id": "oOvYtgKtcogN"
      },
      "execution_count": 36,
      "outputs": []
    },
    {
      "cell_type": "markdown",
      "source": [
        "# Calculate daily returns"
      ],
      "metadata": {
        "id": "-d4zRS59csz3"
      }
    },
    {
      "cell_type": "code",
      "source": [
        "daily_returns = hsi_data['Close'].pct_change() * 100"
      ],
      "metadata": {
        "id": "YT1BfeLPct6N"
      },
      "execution_count": 37,
      "outputs": []
    },
    {
      "cell_type": "markdown",
      "source": [
        " # Drop NaN values (first return is NaN due to lack of previous day's data)"
      ],
      "metadata": {
        "id": "VJZt72eKc2KD"
      }
    },
    {
      "cell_type": "code",
      "source": [
        " daily_returns = daily_returns.dropna()"
      ],
      "metadata": {
        "id": "5nB_3SxNc3YM"
      },
      "execution_count": 38,
      "outputs": []
    },
    {
      "cell_type": "markdown",
      "source": [
        "# Plot histogram of daily returns\n"
      ],
      "metadata": {
        "id": "hA2RbJJOc-U3"
      }
    },
    {
      "cell_type": "code",
      "source": [
        "plt.figure(figsize=(10, 6))\n"
      ],
      "metadata": {
        "colab": {
          "base_uri": "https://localhost:8080/",
          "height": 52
        },
        "id": "4hq9YU1ndCW6",
        "outputId": "72b8baa4-2d2a-4ad0-e63e-9cc88ad6865b"
      },
      "execution_count": 40,
      "outputs": [
        {
          "output_type": "execute_result",
          "data": {
            "text/plain": [
              "<Figure size 1000x600 with 0 Axes>"
            ]
          },
          "metadata": {},
          "execution_count": 40
        },
        {
          "output_type": "display_data",
          "data": {
            "text/plain": [
              "<Figure size 1000x600 with 0 Axes>"
            ]
          },
          "metadata": {}
        }
      ]
    },
    {
      "cell_type": "code",
      "source": [
        "sns.histplot(daily_returns, kde=True, bins=50, color='blue')"
      ],
      "metadata": {
        "colab": {
          "base_uri": "https://localhost:8080/",
          "height": 447
        },
        "id": "cQNgCUH4dOL5",
        "outputId": "eab1ce63-3eea-4675-eef8-09e3bbf38523"
      },
      "execution_count": 41,
      "outputs": [
        {
          "output_type": "execute_result",
          "data": {
            "text/plain": [
              "<Axes: ylabel='Count'>"
            ]
          },
          "metadata": {},
          "execution_count": 41
        },
        {
          "output_type": "display_data",
          "data": {
            "text/plain": [
              "<Figure size 640x480 with 1 Axes>"
            ],
            "image/png": "[encoded data removed]"
          },
          "metadata": {}
        }
      ]
    },
    {
      "cell_type": "code",
      "source": [
        "plt.title(\"Histogram of HSI Daily Returns\")"
      ],
      "metadata": {
        "colab": {
          "base_uri": "https://localhost:8080/",
          "height": 469
        },
        "id": "AePwaNJhdVg-",
        "outputId": "94a36b55-416c-4dde-869c-791772ea13bf"
      },
      "execution_count": 42,
      "outputs": [
        {
          "output_type": "execute_result",
          "data": {
            "text/plain": [
              "Text(0.5, 1.0, 'Histogram of HSI Daily Returns')"
            ]
          },
          "metadata": {},
          "execution_count": 42
        },
        {
          "output_type": "display_data",
          "data": {
            "text/plain": [
              "<Figure size 640x480 with 1 Axes>"
            ],
            "image/png": "[encoded data removed]"
          },
          "metadata": {}
        }
      ]
    },
    {
      "cell_type": "code",
      "source": [
        "plt.xlabel(\"Daily Returns (%)\")"
      ],
      "metadata": {
        "colab": {
          "base_uri": "https://localhost:8080/",
          "height": 472
        },
        "id": "6YcDHShydb5J",
        "outputId": "28355ada-616d-477d-c5b2-1dcc16bfa19e"
      },
      "execution_count": 43,
      "outputs": [
        {
          "output_type": "execute_result",
          "data": {
            "text/plain": [
              "Text(0.5, 0, 'Daily Returns (%)')"
            ]
          },
          "metadata": {},
          "execution_count": 43
        },
        {
          "output_type": "display_data",
          "data": {
            "text/plain": [
              "<Figure size 640x480 with 1 Axes>"
            ],
            "image/png": "[encoded data removed]"
          },
          "metadata": {}
        }
      ]
    },
    {
      "cell_type": "code",
      "source": [
        " plt.ylabel(\"Frequency\")\n",
        " plt.show()\n"
      ],
      "metadata": {
        "colab": {
          "base_uri": "https://localhost:8080/",
          "height": 435
        },
        "id": "QSPGUrRadf42",
        "outputId": "9d0d19ea-99be-4e1b-ccbe-cb034388ce40"
      },
      "execution_count": 49,
      "outputs": [
        {
          "output_type": "display_data",
          "data": {
            "text/plain": [
              "<Figure size 640x480 with 1 Axes>"
            ],
            "image/png": "[encoded data removed]"
          },
          "metadata": {}
        }
      ]
    },
    {
      "cell_type": "code",
      "source": [
        " plt.show()"
      ],
      "metadata": {
        "id": "0GH4XmoUdhA0"
      },
      "execution_count": 48,
      "outputs": []
    },
    {
      "cell_type": "markdown",
      "source": [
        " # Q-Q Plot"
      ],
      "metadata": {
        "id": "ez0zxkx8d1Re"
      }
    },
    {
      "cell_type": "code",
      "source": [
        "from scipy.stats import probplot"
      ],
      "metadata": {
        "id": "SVRhhEl7dphS"
      },
      "execution_count": 59,
      "outputs": []
    },
    {
      "cell_type": "code",
      "source": [
        "plt.title(\"Q-Q Plot for HSI Daily Returns\")"
      ],
      "metadata": {
        "colab": {
          "base_uri": "https://localhost:8080/",
          "height": 469
        },
        "id": "97g_03FyeMGO",
        "outputId": "f51042f3-88b0-4b72-8b37-b7906dfe0e1b"
      },
      "execution_count": 62,
      "outputs": [
        {
          "output_type": "execute_result",
          "data": {
            "text/plain": [
              "Text(0.5, 1.0, 'Q-Q Plot for HSI Daily Returns')"
            ]
          },
          "metadata": {},
          "execution_count": 62
        },
        {
          "output_type": "display_data",
          "data": {
            "text/plain": [
              "<Figure size 640x480 with 1 Axes>"
            ],
            "image/png": "[encoded data removed]"
          },
          "metadata": {}
        }
      ]
    },
    {
      "cell_type": "code",
      "source": [
        " plt.show()"
      ],
      "metadata": {
        "id": "1qlurGB2e2F8"
      },
      "execution_count": 64,
      "outputs": []
    },
    {
      "cell_type": "markdown",
      "source": [
        " # Shapiro-Wilk Test\n"
      ],
      "metadata": {
        "id": "pWgUR1xLe62-"
      }
    },
    {
      "cell_type": "code",
      "source": [
        "stat, p = shapiro(daily_returns)\n"
      ],
      "metadata": {
        "id": "cSUGQCuue7-U"
      },
      "execution_count": 65,
      "outputs": []
    },
    {
      "cell_type": "markdown",
      "source": [],
      "metadata": {
        "id": "Vz5ju6x6lbI6"
      }
    },
    {
      "cell_type": "code",
      "source": [
        "print(f\"Shapiro-Wilk Test: Test Statistic = {stat}, p-value = {p}\")\n"
      ],
      "metadata": {
        "colab": {
          "base_uri": "https://localhost:8080/"
        },
        "id": "R_7w0dqIfAQu",
        "outputId": "ff460925-a79f-42ce-ed35-307b61fa4848"
      },
      "execution_count": 66,
      "outputs": [
        {
          "output_type": "stream",
          "name": "stdout",
          "text": [
            "Shapiro-Wilk Test: Test Statistic = 0.9701753592611049, p-value = 6.673193576369432e-17\n"
          ]
        }
      ]
    },
    {
      "cell_type": "code",
      "source": [
        "if p > 0.05:\n",
        "        print(\"The daily returns are likely normally distributed (Fail to reject H0).\")\n",
        "else:\n",
        "        print(\"The daily returns are not normally distributed (Reject H0).\")\n"
      ],
      "metadata": {
        "colab": {
          "base_uri": "https://localhost:8080/"
        },
        "id": "OI-ez_rcfEd-",
        "outputId": "f56da58f-709e-4c4e-d896-12c1c31d6c84"
      },
      "execution_count": 73,
      "outputs": [
        {
          "output_type": "stream",
          "name": "stdout",
          "text": [
            "The daily returns are not normally distributed (Reject H0).\n"
          ]
        }
      ]
    },
    {
      "cell_type": "markdown",
      "source": [
        " # Kolmogorov-Smirnov Test"
      ],
      "metadata": {
        "id": "0pfcQP_EfuRx"
      }
    },
    {
      "cell_type": "code",
      "source": [
        " ks_stat, ks_p = kstest(daily_returns, 'norm', args=(daily_returns.mean(), daily_returns.std()))\n"
      ],
      "metadata": {
        "id": "izOc1DlFfwmO"
      },
      "execution_count": 74,
      "outputs": []
    },
    {
      "cell_type": "code",
      "source": [
        "print(f\"Kolmogorov-Smirnov Test: Test Statistic = {ks_stat}, p-value = {ks_p}\")"
      ],
      "metadata": {
        "colab": {
          "base_uri": "https://localhost:8080/"
        },
        "id": "DbClgXcFf29-",
        "outputId": "76901365-9ac3-4617-b0af-c87e9a0b886c"
      },
      "execution_count": 75,
      "outputs": [
        {
          "output_type": "stream",
          "name": "stdout",
          "text": [
            "Kolmogorov-Smirnov Test: Test Statistic = [0.05072228], p-value = [0.00097458]\n"
          ]
        }
      ]
    },
    {
      "cell_type": "code",
      "source": [
        " if ks_p > 0.05:\n",
        "        print(\"The daily returns are likely normally distributed (Fail to reject H0).\")\n",
        "else:\n",
        "        print(\"The daily returns are not normally distributed (Reject H0).\")"
      ],
      "metadata": {
        "colab": {
          "base_uri": "https://localhost:8080/"
        },
        "id": "r-wZ7cUFf7e3",
        "outputId": "805e155c-9aa8-4f0a-d10d-b61ebd754630"
      },
      "execution_count": 79,
      "outputs": [
        {
          "output_type": "stream",
          "name": "stdout",
          "text": [
            "The daily returns are not normally distributed (Reject H0).\n"
          ]
        }
      ]
    },
    {
      "cell_type": "markdown",
      "source": [
        " # D’Agostino and Pearson’s Test\n"
      ],
      "metadata": {
        "id": "NOXCcPORgDWe"
      }
    },
    {
      "cell_type": "code",
      "source": [
        " dag_stat, dag_p = normaltest(daily_returns)\n",
        "print(f\"D’Agostino and Pearson Test: Test Statistic = {dag_stat}, p-value = {dag_p}\")"
      ],
      "metadata": {
        "colab": {
          "base_uri": "https://localhost:8080/"
        },
        "id": "pJ9A5HnMgEZu",
        "outputId": "68514e92-3bdf-4c0f-904e-8bb8e56b0361"
      },
      "execution_count": 82,
      "outputs": [
        {
          "output_type": "stream",
          "name": "stdout",
          "text": [
            "D’Agostino and Pearson Test: Test Statistic = [134.35729475], p-value = [6.67858017e-30]\n"
          ]
        }
      ]
    },
    {
      "cell_type": "code",
      "source": [
        "if dag_p > 0.05:\n",
        "        print(\"The daily returns are likely normally distributed (Fail to reject H0).\")\n",
        "else:\n",
        "        print(\"The daily returns are not normally distributed (Reject H0).\")\n"
      ],
      "metadata": {
        "colab": {
          "base_uri": "https://localhost:8080/"
        },
        "id": "ZACBHkCxgNPx",
        "outputId": "99705286-8e57-499d-b06d-750eef507c9a"
      },
      "execution_count": 83,
      "outputs": [
        {
          "output_type": "stream",
          "name": "stdout",
          "text": [
            "The daily returns are not normally distributed (Reject H0).\n"
          ]
        }
      ]
    },
    {
      "cell_type": "code",
      "source": [],
      "metadata": {
        "id": "ksG1V4__hxT1"
      },
      "execution_count": null,
      "outputs": []
    },
    {
      "cell_type": "markdown",
      "source": [
        "#####   \"Nikkei 225\" = \"^N225\"######"
      ],
      "metadata": {
        "id": "F4wZZ7YYhzV9"
      }
    },
    {
      "cell_type": "code",
      "source": [
        "import yfinance as yf\n",
        "import pandas as pd"
      ],
      "metadata": {
        "id": "jg0Tn8kzh1AX"
      },
      "execution_count": 186,
      "outputs": []
    },
    {
      "cell_type": "markdown",
      "source": [
        "# Define the symbol for Nikkei 225 and the date range"
      ],
      "metadata": {
        "id": "2IBwHAhGiBn6"
      }
    },
    {
      "cell_type": "code",
      "source": [
        "symbol = \"^N225\"\n",
        "start_date = \"2018-01-01\"\n",
        "end_date = \"2023-12-31\"\n"
      ],
      "metadata": {
        "id": "gdkQfEe8iIEa"
      },
      "execution_count": 187,
      "outputs": []
    },
    {
      "cell_type": "markdown",
      "source": [
        "### download file\n",
        "#### download data for each index for Six years.(from 1st Jan 2018 till 31st December 2023-OHLC Data)"
      ],
      "metadata": {
        "id": "F28LrE6SiO8v"
      }
    },
    {
      "cell_type": "code",
      "source": [
        "n225_data = yf.download(\"^N225\", start=start_date, end=end_date, progress=False)"
      ],
      "metadata": {
        "id": "Ubt5MxwMiRPY"
      },
      "execution_count": 188,
      "outputs": []
    },
    {
      "cell_type": "code",
      "source": [
        "ohlc_data = n225_data[['Open', 'High', 'Low', 'Close']]\n",
        "print(ohlc_data.head())"
      ],
      "metadata": {
        "colab": {
          "base_uri": "https://localhost:8080/"
        },
        "id": "LrMJ9GSviftf",
        "outputId": "1e20a44a-3b08-41da-f068-4b28e1317653"
      },
      "execution_count": 189,
      "outputs": [
        {
          "output_type": "stream",
          "name": "stdout",
          "text": [
            "Price                              Open          High           Low  \\\n",
            "Ticker                            ^N225         ^N225         ^N225   \n",
            "Date                                                                  \n",
            "2018-01-04 00:00:00+00:00  23073.730469  23506.330078  23065.199219   \n",
            "2018-01-05 00:00:00+00:00  23643.000000  23730.470703  23520.519531   \n",
            "2018-01-09 00:00:00+00:00  23948.970703  23952.609375  23789.029297   \n",
            "2018-01-10 00:00:00+00:00  23832.810547  23864.759766  23755.449219   \n",
            "2018-01-11 00:00:00+00:00  23656.390625  23734.970703  23601.839844   \n",
            "\n",
            "Price                             Close  \n",
            "Ticker                            ^N225  \n",
            "Date                                     \n",
            "2018-01-04 00:00:00+00:00  23506.330078  \n",
            "2018-01-05 00:00:00+00:00  23714.529297  \n",
            "2018-01-09 00:00:00+00:00  23849.990234  \n",
            "2018-01-10 00:00:00+00:00  23788.199219  \n",
            "2018-01-11 00:00:00+00:00  23710.429688  \n"
          ]
        }
      ]
    },
    {
      "cell_type": "code",
      "source": [
        "ohlc_data.to_csv(\"n225_ohlc_2018_2023.csv\")\n",
        "print(\"Data saved to 'n225_ohlc_2018_2023.csv'\")"
      ],
      "metadata": {
        "colab": {
          "base_uri": "https://localhost:8080/"
        },
        "id": "d2u5ZKg_ijqm",
        "outputId": "6d89389a-7faa-4937-b90d-efe174ae9976"
      },
      "execution_count": 190,
      "outputs": [
        {
          "output_type": "stream",
          "name": "stdout",
          "text": [
            "Data saved to 'n225_ohlc_2018_2023.csv'\n"
          ]
        }
      ]
    },
    {
      "cell_type": "markdown",
      "source": [
        "### Add USA VIX data for Six years (Volatility Index- Fear Factor)\n"
      ],
      "metadata": {
        "id": "k930OmCpi4rU"
      }
    },
    {
      "cell_type": "markdown",
      "source": [
        "# Define the symbol for VIX and the date range"
      ],
      "metadata": {
        "id": "b4oIbZvijCEn"
      }
    },
    {
      "cell_type": "code",
      "source": [
        "symbol_dji = \"^N225\"\n",
        "symbol_vix = \"^VIX\"\n",
        "start_date = \"2018-01-01\"\n",
        "end_date = \"2023-12-31\""
      ],
      "metadata": {
        "id": "FVc_PHVOjEDP"
      },
      "execution_count": 191,
      "outputs": []
    },
    {
      "cell_type": "markdown",
      "source": [
        "### to add VIX with  N255"
      ],
      "metadata": {
        "id": "wLEDFDA-jQtW"
      }
    },
    {
      "cell_type": "code",
      "source": [
        " n225_data_data = yf.download(\"^N225\", start=start_date, end=end_date, progress=False)\n",
        "n225_data = n225_data[['Open', 'High', 'Low', 'Close']]\n",
        "n225_data_data.rename(columns={\n",
        "        'Open': 'N225_Open', 'High': 'N225_High',\n",
        "        'Low': 'N225_Low', 'Close': 'N225_Close'}, inplace=True)\n",
        "\n"
      ],
      "metadata": {
        "id": "Cm0CxwxBjWiZ"
      },
      "execution_count": 192,
      "outputs": []
    },
    {
      "cell_type": "markdown",
      "source": [
        " # Download VIX data\n"
      ],
      "metadata": {
        "id": "kr7t5OVzkSsn"
      }
    },
    {
      "cell_type": "code",
      "source": [
        "vix_data = yf.download(symbol_vix, start=start_date, end=end_date, progress=False)\n",
        "vix_data = vix_data[['Close']]\n",
        "vix_data.rename(columns={'Close': 'VIX_Close'}, inplace=True)"
      ],
      "metadata": {
        "id": "A6Ds76bekUw1"
      },
      "execution_count": 109,
      "outputs": []
    },
    {
      "cell_type": "markdown",
      "source": [
        "# Merge the two datasets on Date\n"
      ],
      "metadata": {
        "id": "nxWJUIj8kt1v"
      }
    },
    {
      "cell_type": "code",
      "source": [
        "combined_data = pd.merge(n225_data_data, vix_data, left_index=True, right_index=True, how='inner')"
      ],
      "metadata": {
        "id": "3NXUjyS0k0Am"
      },
      "execution_count": 193,
      "outputs": []
    },
    {
      "cell_type": "markdown",
      "source": [
        "# Save the combined data to a new CSV file"
      ],
      "metadata": {
        "id": "P2kfWo59k_SN"
      }
    },
    {
      "cell_type": "code",
      "source": [
        "combined_data.to_csv(\"n225_vix_ohlc_2018_2023.csv\")\n",
        "print(\"Combined N225 and VIX data saved to 'n225_vix_ohlc_2018_2023.csv'\")\n"
      ],
      "metadata": {
        "colab": {
          "base_uri": "https://localhost:8080/"
        },
        "id": "b74YzZ2SlA7t",
        "outputId": "a38f1ab5-4130-4538-c6d8-5c90b6bfc563"
      },
      "execution_count": 195,
      "outputs": [
        {
          "output_type": "stream",
          "name": "stdout",
          "text": [
            "Combined N225 and VIX data saved to 'n225_vix_ohlc_2018_2023.csv'\n"
          ]
        }
      ]
    },
    {
      "cell_type": "markdown",
      "source": [
        "### Calculate daily returns based on close prices of each index: ( Yt-Yt-1)/(Yt-1) * 100"
      ],
      "metadata": {
        "id": "0UagjHwqmBh6"
      }
    },
    {
      "cell_type": "markdown",
      "source": [
        "### Compute daily returns based on Close price"
      ],
      "metadata": {
        "id": "JWWDPjZImFx3"
      }
    },
    {
      "cell_type": "code",
      "source": [
        "n225_data_data = yf.download(\"^N225\", start=start_date, end=end_date, progress=False)\n",
        "n225_data['Daily Return'] = n225_data['Close'].pct_change() * 100\n",
        "print(n225_data[['Close', 'Daily Return']].head())"
      ],
      "metadata": {
        "colab": {
          "base_uri": "https://localhost:8080/"
        },
        "id": "BXlnls17kvU2",
        "outputId": "39e8496f-f795-4037-82b6-13241f8e037b"
      },
      "execution_count": 198,
      "outputs": [
        {
          "output_type": "stream",
          "name": "stdout",
          "text": [
            "Price                             Close Daily Return\n",
            "Ticker                            ^N225             \n",
            "Date                                                \n",
            "2018-01-04 00:00:00+00:00  23506.330078          NaN\n",
            "2018-01-05 00:00:00+00:00  23714.529297          NaN\n",
            "2018-01-09 00:00:00+00:00  23849.990234          NaN\n",
            "2018-01-10 00:00:00+00:00  23788.199219          NaN\n",
            "2018-01-11 00:00:00+00:00  23710.429688          NaN\n"
          ]
        }
      ]
    },
    {
      "cell_type": "markdown",
      "source": [
        "### Save the results to CSV"
      ],
      "metadata": {
        "id": "_d6WD7ZzmjxJ"
      }
    },
    {
      "cell_type": "code",
      "source": [
        "n225_data[['Close', 'Daily Return']].to_csv(\"n225_daily_returns_2018_2023.csv\")\n",
        "print(\"Daily returns saved to 'n25_daily_returns_2018_2023.csv'\")"
      ],
      "metadata": {
        "colab": {
          "base_uri": "https://localhost:8080/"
        },
        "id": "NF3vq9-BmlR3",
        "outputId": "70028bcc-3750-4fd1-a49c-f341004c57c4"
      },
      "execution_count": 200,
      "outputs": [
        {
          "output_type": "stream",
          "name": "stdout",
          "text": [
            "Daily returns saved to 'n25_daily_returns_2018_2023.csv'\n"
          ]
        }
      ]
    },
    {
      "cell_type": "code",
      "source": [
        "n225_data = yf.download(\"^N225\", start=start_date, end=end_date, progress=False)"
      ],
      "metadata": {
        "id": "LJeJUt_8mEOc"
      },
      "execution_count": 201,
      "outputs": []
    },
    {
      "cell_type": "markdown",
      "source": [
        "### Select the Close prices"
      ],
      "metadata": {
        "id": "c16W1jhInhEB"
      }
    },
    {
      "cell_type": "code",
      "source": [
        "close_prices = n225_data['Close']"
      ],
      "metadata": {
        "id": "I-DemYOYnxvb"
      },
      "execution_count": 202,
      "outputs": []
    },
    {
      "cell_type": "markdown",
      "source": [
        "### Calculate daily returns"
      ],
      "metadata": {
        "id": "-vmYKJ7Zn1dQ"
      }
    },
    {
      "cell_type": "code",
      "source": [
        "daily_returns = close_prices.pct_change() * 100  # (Yt - Yt-1) / Yt-1 * 100"
      ],
      "metadata": {
        "id": "d4RIQWPmn3eq"
      },
      "execution_count": 203,
      "outputs": []
    },
    {
      "cell_type": "markdown",
      "source": [
        "### Add daily returns as a new column to the original DataFrame"
      ],
      "metadata": {
        "id": "yDO-FINwn9Fs"
      }
    },
    {
      "cell_type": "code",
      "source": [
        "n225_data['Daily Return (%)'] = daily_returns\n",
        "print(n225_data[['Close', 'Daily Return (%)']].head())\n"
      ],
      "metadata": {
        "colab": {
          "base_uri": "https://localhost:8080/"
        },
        "id": "OczC9lasn_iF",
        "outputId": "3e5f3996-2cd4-4b07-e057-1934a05351c9"
      },
      "execution_count": 204,
      "outputs": [
        {
          "output_type": "stream",
          "name": "stdout",
          "text": [
            "Price                             Close Daily Return (%)\n",
            "Ticker                            ^N225                 \n",
            "Date                                                    \n",
            "2018-01-04 00:00:00+00:00  23506.330078              NaN\n",
            "2018-01-05 00:00:00+00:00  23714.529297         0.885716\n",
            "2018-01-09 00:00:00+00:00  23849.990234         0.571215\n",
            "2018-01-10 00:00:00+00:00  23788.199219        -0.259082\n",
            "2018-01-11 00:00:00+00:00  23710.429688        -0.326925\n"
          ]
        }
      ]
    },
    {
      "cell_type": "markdown",
      "source": [
        "### Save to a CSV file"
      ],
      "metadata": {
        "id": "NMzqz3z2oHfP"
      }
    },
    {
      "cell_type": "code",
      "source": [
        "n225_data[['Close', 'Daily Return (%)']].to_csv(\"n225_daily_returns_2018_2023.csv\")\n",
        "print(\"Daily returns saved to 'n225_daily_returns_2018_2023.csv'\")"
      ],
      "metadata": {
        "colab": {
          "base_uri": "https://localhost:8080/"
        },
        "id": "pUYg8IXhoWXM",
        "outputId": "24973504-6ac8-44be-b79d-35a922e5fb71"
      },
      "execution_count": 206,
      "outputs": [
        {
          "output_type": "stream",
          "name": "stdout",
          "text": [
            "Daily returns saved to 'n225_daily_returns_2018_2023.csv'\n"
          ]
        }
      ]
    },
    {
      "cell_type": "markdown",
      "source": [
        "###  Rename variables in each file (Example: dji_Open,dji_Adjclose)\n",
        "Rename the columns"
      ],
      "metadata": {
        "id": "avS6mXOHrLCV"
      }
    },
    {
      "cell_type": "code",
      "source": [
        "import yfinance as yf\n",
        "import pandas as pd"
      ],
      "metadata": {
        "id": "0CaMbBb3smlg"
      },
      "execution_count": 136,
      "outputs": []
    },
    {
      "cell_type": "code",
      "source": [
        "symbol = \"^N225\"\n",
        "start_date = \"2018-01-01\"\n",
        "end_date = \"2023-12-31\""
      ],
      "metadata": {
        "id": "ydu5pvhassDM"
      },
      "execution_count": 138,
      "outputs": []
    },
    {
      "cell_type": "code",
      "source": [
        "n225_data = yf.download(\"^N225\", start=start_date, end=end_date, progress=False)"
      ],
      "metadata": {
        "id": "wMAvx05msp5f"
      },
      "execution_count": 139,
      "outputs": []
    },
    {
      "cell_type": "code",
      "source": [
        "renamed_columns = {\n",
        "        'Open': 'N225_Open',\n",
        "        'High': 'N225_High',\n",
        "        'Low': 'N225_Low',\n",
        "        'Close': 'N225_Close',\n",
        "        'Adj Close': 'N225_Adj_Close',\n",
        "        'Volume': 'N225_Volume'\n",
        "    }"
      ],
      "metadata": {
        "id": "VDIwdE8frbTJ"
      },
      "execution_count": 207,
      "outputs": []
    },
    {
      "cell_type": "code",
      "source": [
        "n225_data.rename(columns=renamed_columns, inplace=True)\n",
        ""
      ],
      "metadata": {
        "id": "l2p7Zv8Dr8T5"
      },
      "execution_count": 208,
      "outputs": []
    },
    {
      "cell_type": "markdown",
      "source": [
        "### Save the modified data to a CSV file ####"
      ],
      "metadata": {
        "id": "cvw_yWlFDbeb"
      }
    },
    {
      "cell_type": "code",
      "source": [
        "n225_data.to_csv(\"renamed_n225_2018_2023.csv\")\n",
        "print(\"Renamed N225 data saved to 'renamed_n225_2018_2023.csv'\")"
      ],
      "metadata": {
        "colab": {
          "base_uri": "https://localhost:8080/"
        },
        "id": "3m8gKXAmDiB5",
        "outputId": "76c8f513-b504-4f71-f61d-e1b4eb449723"
      },
      "execution_count": 210,
      "outputs": [
        {
          "output_type": "stream",
          "name": "stdout",
          "text": [
            "Renamed N225 data saved to 'renamed_n225_2018_2023.csv'\n"
          ]
        }
      ]
    },
    {
      "cell_type": "code",
      "source": [],
      "metadata": {
        "id": "NpyHZ_KdDdK6"
      },
      "execution_count": null,
      "outputs": []
    },
    {
      "cell_type": "markdown",
      "source": [
        "6.Check if daily returns follow Normal distribution"
      ],
      "metadata": {
        "id": "gZ0hpjCxxEot"
      }
    },
    {
      "cell_type": "code",
      "source": [
        "import yfinance as yf\n",
        "import pandas as pd\n",
        "import numpy as np\n",
        "import seaborn as sns\n",
        "import matplotlib.pyplot as plt\n",
        "from scipy.stats import shapiro, kstest, normaltest"
      ],
      "metadata": {
        "id": "a1598IwPxJQQ"
      },
      "execution_count": 155,
      "outputs": []
    },
    {
      "cell_type": "markdown",
      "source": [
        "# Drop NaN values (first return is NaN due to lack of previous day's data)"
      ],
      "metadata": {
        "id": "iY4BoU2zxt5O"
      }
    },
    {
      "cell_type": "code",
      "source": [
        "daily_returns = daily_returns.dropna()"
      ],
      "metadata": {
        "id": "gt06nto4xTcA"
      },
      "execution_count": 156,
      "outputs": []
    },
    {
      "cell_type": "markdown",
      "source": [
        "# Plot histogram of daily returns"
      ],
      "metadata": {
        "id": "4254yskpx5fa"
      }
    },
    {
      "cell_type": "code",
      "source": [
        "plt.figure(figsize=(10, 6))\n",
        "sns.histplot(daily_returns, kde=True, bins=50, color='blue')\n",
        "plt.title(\"Histogram of DJI Daily Returns\")\n",
        "plt.xlabel(\"Daily Returns (%)\")\n",
        "plt.ylabel(\"Frequency\")\n",
        "plt.show()\n",
        "\n"
      ],
      "metadata": {
        "colab": {
          "base_uri": "https://localhost:8080/",
          "height": 564
        },
        "id": "mlcKCEjbyexc",
        "outputId": "606c3b41-9da4-47a1-cb1e-ed9048e819f8"
      },
      "execution_count": 165,
      "outputs": [
        {
          "output_type": "display_data",
          "data": {
            "text/plain": [
              "<Figure size 1000x600 with 1 Axes>"
            ],
            "image/png": "[encoded data removed]"
          },
          "metadata": {}
        }
      ]
    },
    {
      "cell_type": "markdown",
      "source": [
        "\n",
        " # Q-Q Plot\n"
      ],
      "metadata": {
        "id": "Y6o6rij9zA8f"
      }
    },
    {
      "cell_type": "code",
      "source": [
        "from scipy.stats import probplot\n",
        "plt.title(\"Q-Q Plot for DJI Daily Returns\")\n",
        "plt.show()"
      ],
      "metadata": {
        "colab": {
          "base_uri": "https://localhost:8080/",
          "height": 452
        },
        "id": "V9_qdenDzIMe",
        "outputId": "9133e7aa-2b54-44e6-f1a4-47c1631d24fe"
      },
      "execution_count": 171,
      "outputs": [
        {
          "output_type": "display_data",
          "data": {
            "text/plain": [
              "<Figure size 640x480 with 1 Axes>"
            ],
            "image/png": "[encoded data removed]"
          },
          "metadata": {}
        }
      ]
    },
    {
      "cell_type": "markdown",
      "source": [
        " # Shapiro-Wilk Test"
      ],
      "metadata": {
        "id": "4Hy6hHqhzXSd"
      }
    },
    {
      "cell_type": "code",
      "source": [
        "stat, p = shapiro(daily_returns)\n",
        "print(f\"Shapiro-Wilk Test: Test Statistic = {stat}, p-value = {p}\")\n",
        "if p > 0.05:\n",
        "        print(\"The daily returns are likely normally distributed (Fail to reject H0).\")\n",
        "else:\n",
        "        print(\"The daily returns are not normally distributed (Reject H0).\")\n",
        "\n"
      ],
      "metadata": {
        "colab": {
          "base_uri": "https://localhost:8080/"
        },
        "id": "T7W_F_AgzaeN",
        "outputId": "b0de800a-88dd-490f-9da5-b021a910df10"
      },
      "execution_count": 174,
      "outputs": [
        {
          "output_type": "stream",
          "name": "stdout",
          "text": [
            "Shapiro-Wilk Test: Test Statistic = 0.9673329042405777, p-value = 1.1456132351106247e-17\n",
            "The daily returns are not normally distributed (Reject H0).\n"
          ]
        }
      ]
    },
    {
      "cell_type": "markdown",
      "source": [
        "# Kolmogorov-Smirnov Test"
      ],
      "metadata": {
        "id": "TJkw2PzjzpR3"
      }
    },
    {
      "cell_type": "code",
      "source": [
        "ks_stat, ks_p = kstest(daily_returns, 'norm', args=(daily_returns.mean(), daily_returns.std()))\n",
        "print(f\"Kolmogorov-Smirnov Test: Test Statistic = {ks_stat}, p-value = {ks_p}\")\n"
      ],
      "metadata": {
        "colab": {
          "base_uri": "https://localhost:8080/"
        },
        "id": "f68UJq_Ezsbb",
        "outputId": "caa9a830-0725-4984-f668-bde1434a44bb"
      },
      "execution_count": 182,
      "outputs": [
        {
          "output_type": "stream",
          "name": "stdout",
          "text": [
            "Kolmogorov-Smirnov Test: Test Statistic = [0.05291315], p-value = [0.00053234]\n"
          ]
        }
      ]
    },
    {
      "cell_type": "code",
      "source": [
        " if ks_p > 0.05:\n",
        "        print(\"The daily returns are likely normally distributed (Fail to reject H0).\")\n",
        "else:\n",
        "        print(\"The daily returns are not normally distributed (Reject H0).\")"
      ],
      "metadata": {
        "colab": {
          "base_uri": "https://localhost:8080/"
        },
        "id": "4pK2-dcc0q5r",
        "outputId": "35057353-5978-4621-da2d-7f58810b97f8"
      },
      "execution_count": 188,
      "outputs": [
        {
          "output_type": "stream",
          "name": "stdout",
          "text": [
            "The daily returns are not normally distributed (Reject H0).\n"
          ]
        }
      ]
    },
    {
      "cell_type": "markdown",
      "source": [
        "# D’Agostino and Pearson’s Test"
      ],
      "metadata": {
        "id": "KQhi5eMW1YoD"
      }
    },
    {
      "cell_type": "code",
      "source": [
        "dag_stat, dag_p = normaltest(daily_returns)\n",
        "print(f\"D’Agostino and Pearson Test: Test Statistic = {dag_stat}, p-value = {dag_p}\")\n"
      ],
      "metadata": {
        "colab": {
          "base_uri": "https://localhost:8080/"
        },
        "id": "CO1EEeIQ1eyO",
        "outputId": "d9483d56-7024-45bd-ee5b-9579b2974d38"
      },
      "execution_count": 190,
      "outputs": [
        {
          "output_type": "stream",
          "name": "stdout",
          "text": [
            "D’Agostino and Pearson Test: Test Statistic = [123.20411625], p-value = [1.7642742e-27]\n"
          ]
        }
      ]
    },
    {
      "cell_type": "code",
      "source": [
        "if dag_p > 0.05:\n",
        "        print(\"The daily returns are likely normally distributed (Fail to reject H0).\")\n",
        "else:\n",
        "        print(\"The daily returns are not normally distributed (Reject H0).\")"
      ],
      "metadata": {
        "colab": {
          "base_uri": "https://localhost:8080/"
        },
        "id": "-6ApdBEq1slW",
        "outputId": "741dfefa-9d68-4f20-8309-4e959f5316ac"
      },
      "execution_count": 194,
      "outputs": [
        {
          "output_type": "stream",
          "name": "stdout",
          "text": [
            "The daily returns are not normally distributed (Reject H0).\n"
          ]
        }
      ]
    },
    {
      "cell_type": "markdown",
      "source": [
        "e.\t \"DAX\" = \"^GDAXI\","
      ],
      "metadata": {
        "id": "80_nO7jQ14TB"
      }
    },
    {
      "cell_type": "markdown",
      "source": [],
      "metadata": {
        "id": "PAlbCiCv44VO"
      }
    },
    {
      "cell_type": "code",
      "source": [
        "import yfinance as yf\n",
        "import pandas as pd"
      ],
      "metadata": {
        "id": "sJcMWkDk6tCe"
      },
      "execution_count": 197,
      "outputs": []
    },
    {
      "cell_type": "markdown",
      "source": [
        "# Define the symbol for \"DAX\" and the date range"
      ],
      "metadata": {
        "id": "YINZvJuf62yT"
      }
    },
    {
      "cell_type": "code",
      "source": [
        "symbol = \"^GDAXI\"\n",
        "start_date = \"2018-01-01\"\n",
        "end_date = \"2023-12-31\""
      ],
      "metadata": {
        "id": "C7QZ8NLE6838"
      },
      "execution_count": 211,
      "outputs": []
    },
    {
      "cell_type": "markdown",
      "source": [
        "### download file\n",
        "#### download data for each index for Six years.(from 1st Jan 2018 till 31st December 2023-OHLC Data)"
      ],
      "metadata": {
        "id": "S5Ub7siD7FjN"
      }
    },
    {
      "cell_type": "code",
      "source": [
        "gdaxi_data = yf.download(\"^GDAXI\", start=start_date, end=end_date, progress=False)\n",
        "ohlc_data = gdaxi_data[['Open', 'High', 'Low', 'Close']]\n",
        "print(ohlc_data.head())"
      ],
      "metadata": {
        "colab": {
          "base_uri": "https://localhost:8080/"
        },
        "id": "ZUD635yh7HNJ",
        "outputId": "c5f8ba40-df16-4211-a638-4c758d23188e"
      },
      "execution_count": 212,
      "outputs": [
        {
          "output_type": "stream",
          "name": "stdout",
          "text": [
            "Price                              Open          High           Low  \\\n",
            "Ticker                           ^GDAXI        ^GDAXI        ^GDAXI   \n",
            "Date                                                                  \n",
            "2018-01-02 00:00:00+00:00  12897.690430  12924.160156  12745.150391   \n",
            "2018-01-03 00:00:00+00:00  12916.179688  13023.589844  12893.049805   \n",
            "2018-01-04 00:00:00+00:00  13065.980469  13208.349609  13062.669922   \n",
            "2018-01-05 00:00:00+00:00  13219.110352  13332.799805  13219.110352   \n",
            "2018-01-08 00:00:00+00:00  13399.620117  13407.820312  13334.160156   \n",
            "\n",
            "Price                             Close  \n",
            "Ticker                           ^GDAXI  \n",
            "Date                                     \n",
            "2018-01-02 00:00:00+00:00  12871.389648  \n",
            "2018-01-03 00:00:00+00:00  12978.209961  \n",
            "2018-01-04 00:00:00+00:00  13167.889648  \n",
            "2018-01-05 00:00:00+00:00  13319.639648  \n",
            "2018-01-08 00:00:00+00:00  13367.780273  \n"
          ]
        }
      ]
    },
    {
      "cell_type": "code",
      "source": [
        "ohlc_data.to_csv(\"gdaxi_ohlc_2018_2023.csv\")\n",
        "print(\"Data saved to 'gdaxi_ohlc_2018_2023.csv'\")"
      ],
      "metadata": {
        "colab": {
          "base_uri": "https://localhost:8080/"
        },
        "id": "fIZm_mpw7Jd6",
        "outputId": "a7eb498a-cfe6-4ed0-ec43-cd28430e66ec"
      },
      "execution_count": 214,
      "outputs": [
        {
          "output_type": "stream",
          "name": "stdout",
          "text": [
            "Data saved to 'gdaxi_ohlc_2018_2023.csv'\n"
          ]
        }
      ]
    },
    {
      "cell_type": "markdown",
      "source": [
        "### Add USA VIX data for Six years (Volatility Index- Fear Factor)"
      ],
      "metadata": {
        "id": "YB30480i7mQ-"
      }
    },
    {
      "cell_type": "code",
      "source": [
        "symbol_gdaxi = \"^GDAXI\"\n",
        "symbol_vix = \"^VIX\"\n",
        "start_date = \"2018-01-01\"\n",
        "end_date = \"2023-12-31\""
      ],
      "metadata": {
        "id": "gCTbcMCS7ndC"
      },
      "execution_count": 218,
      "outputs": []
    },
    {
      "cell_type": "markdown",
      "source": [
        "### to add VIX with  gdaxi"
      ],
      "metadata": {
        "id": "Igp8F8FX73u1"
      }
    },
    {
      "cell_type": "markdown",
      "source": [
        "# Define symbols and date range\n",
        "# Download DJI data"
      ],
      "metadata": {
        "id": "0pguyKQG8AUq"
      }
    },
    {
      "cell_type": "code",
      "source": [
        "gdaxi_data = yf.download(symbol_gdaxi, start=start_date, end=end_date, progress=False)\n",
        "gdaxi_data = gdaxi_data[['Open', 'High', 'Low', 'Close']]\n",
        "gdaxi_data.rename(columns={\n",
        "        'Open': 'GDAXI_Open', 'High': 'GDAXI_High',\n",
        "        'Low': 'GDAXI_Low', 'Close': 'GDAXI_Close'}, inplace=True)\n",
        "\n"
      ],
      "metadata": {
        "id": "HIcGEZKn8B0k"
      },
      "execution_count": 220,
      "outputs": []
    },
    {
      "cell_type": "markdown",
      "source": [
        "# Download VIX data"
      ],
      "metadata": {
        "id": "4zMVIMpb8rHD"
      }
    },
    {
      "cell_type": "code",
      "source": [
        "vix_data = yf.download(symbol_vix, start=start_date, end=end_date, progress=False)\n",
        "vix_data = vix_data[['Close']]  # Keep only the Close price for VIX\n",
        "vix_data.rename(columns={'Close': 'VIX_Close'}, inplace=True)\n",
        "\n"
      ],
      "metadata": {
        "id": "jXwWdLD58Ly4"
      },
      "execution_count": 222,
      "outputs": []
    },
    {
      "cell_type": "markdown",
      "source": [
        "# Merge the two datasets on Date\n"
      ],
      "metadata": {
        "id": "CfkCY6Es9L5R"
      }
    },
    {
      "cell_type": "code",
      "source": [
        "combined_data = pd.merge(gdaxi_data, vix_data, left_index=True, right_index=True, how='inner')\n",
        "\n"
      ],
      "metadata": {
        "id": "raVMOe8c9NKK"
      },
      "execution_count": 223,
      "outputs": []
    },
    {
      "cell_type": "markdown",
      "source": [
        " # Save the combined data to a new CSV file"
      ],
      "metadata": {
        "id": "XjeCJsUu9UXK"
      }
    },
    {
      "cell_type": "code",
      "source": [
        "combined_data.to_csv(\"gdaxi_vix_ohlc_2018_2023.csv\")\n",
        "print(\"Combined GDAXI and VIX data saved to 'gdaxi_vix_ohlc_2018_2023.csv'\")\n"
      ],
      "metadata": {
        "colab": {
          "base_uri": "https://localhost:8080/"
        },
        "id": "2iXJBBG09Z_D",
        "outputId": "4cbedd8e-32c9-42ac-c8af-1b213035ebb5"
      },
      "execution_count": 220,
      "outputs": [
        {
          "output_type": "stream",
          "name": "stdout",
          "text": [
            "Combined GDAXI and VIX data saved to 'gdaxi_vix_ohlc_2018_2023.csv'\n"
          ]
        }
      ]
    },
    {
      "cell_type": "markdown",
      "source": [],
      "metadata": {
        "id": "zfRUzP9t9V20"
      }
    },
    {
      "cell_type": "markdown",
      "source": [
        "### Calculate daily returns based on close prices of each index: ( Yt-Yt-1)/(Yt-1) * 100\n",
        "\n",
        "### Compute daily returns based on Close prices"
      ],
      "metadata": {
        "id": "aldVzL1c-Kgh"
      }
    },
    {
      "cell_type": "code",
      "source": [
        "gdaxi_data = yf.download(\"^GDAXI\", start=start_date, end=end_date, progress=False)\n",
        "gdaxi_data['Daily Return'] = gdaxi_data['Close'].pct_change() * 100\n",
        "print(gdaxi_data[['Close', 'Daily Return']].head())"
      ],
      "metadata": {
        "colab": {
          "base_uri": "https://localhost:8080/"
        },
        "id": "opnm1Ym9-Me3",
        "outputId": "edc92810-17af-4f62-cc1b-089e3a902ffe"
      },
      "execution_count": 230,
      "outputs": [
        {
          "output_type": "stream",
          "name": "stdout",
          "text": [
            "Price                             Close Daily Return\n",
            "Ticker                           ^GDAXI             \n",
            "Date                                                \n",
            "2018-01-02 00:00:00+00:00  12871.389648          NaN\n",
            "2018-01-03 00:00:00+00:00  12978.209961     0.829905\n",
            "2018-01-04 00:00:00+00:00  13167.889648     1.461524\n",
            "2018-01-05 00:00:00+00:00  13319.639648     1.152425\n",
            "2018-01-08 00:00:00+00:00  13367.780273     0.361426\n"
          ]
        }
      ]
    },
    {
      "cell_type": "code",
      "source": [],
      "metadata": {
        "id": "aOwlwqtZ-RYW"
      },
      "execution_count": null,
      "outputs": []
    },
    {
      "cell_type": "markdown",
      "source": [
        "### Save the results to CSV"
      ],
      "metadata": {
        "id": "ihyigmWf-pkI"
      }
    },
    {
      "cell_type": "code",
      "source": [
        "gdaxi_data[['Close', 'Daily Return']].to_csv(\"gdaxi_daily_returns_2018_2023.csv\")\n",
        "print(\"Daily returns saved to 'gdaxi_daily_returns_2018_2023.csv'\")\n",
        "gdaxi_data = yf.download(symbol, start=start_date, end=end_date, progress=False)\n",
        "\n"
      ],
      "metadata": {
        "colab": {
          "base_uri": "https://localhost:8080/"
        },
        "id": "6GNOyhyT-ryq",
        "outputId": "9e016597-7410-43d2-89e1-31ca31d26f99"
      },
      "execution_count": 235,
      "outputs": [
        {
          "output_type": "stream",
          "name": "stdout",
          "text": [
            "Daily returns saved to 'gdaxi_daily_returns_2018_2023.csv'\n"
          ]
        }
      ]
    },
    {
      "cell_type": "markdown",
      "source": [
        "### Select the Close prices\n",
        "\n"
      ],
      "metadata": {
        "id": "uzbUj-ckAFKj"
      }
    },
    {
      "cell_type": "code",
      "source": [
        "close_prices = gdaxi_data['Close']"
      ],
      "metadata": {
        "id": "7-MN67qjAH-I"
      },
      "execution_count": 236,
      "outputs": []
    },
    {
      "cell_type": "markdown",
      "source": [
        "### Calculate daily returns"
      ],
      "metadata": {
        "id": "EEIFfVMAAM1o"
      }
    },
    {
      "cell_type": "code",
      "source": [
        "daily_returns = close_prices.pct_change() * 100  # (Yt - Yt-1) / Yt-1 * 100"
      ],
      "metadata": {
        "id": "gZ4fMJxsAO4c"
      },
      "execution_count": 237,
      "outputs": []
    },
    {
      "cell_type": "markdown",
      "source": [
        "### Add daily returns as a new column to the original DataFrame"
      ],
      "metadata": {
        "id": "_S7gnWXQEnZ6"
      }
    },
    {
      "cell_type": "code",
      "source": [
        "gdaxi_data['Daily Return (%)'] = daily_returns\n",
        "print(gdaxi_data[['Close', 'Daily Return (%)']].head())"
      ],
      "metadata": {
        "colab": {
          "base_uri": "https://localhost:8080/"
        },
        "id": "3TVDspvmErG8",
        "outputId": "9490d859-b73d-4cdf-f584-3e4c1df91972"
      },
      "execution_count": 239,
      "outputs": [
        {
          "output_type": "stream",
          "name": "stdout",
          "text": [
            "Price                             Close Daily Return (%)\n",
            "Ticker                           ^GDAXI                 \n",
            "Date                                                    \n",
            "2018-01-02 00:00:00+00:00  12871.389648              NaN\n",
            "2018-01-03 00:00:00+00:00  12978.209961              NaN\n",
            "2018-01-04 00:00:00+00:00  13167.889648              NaN\n",
            "2018-01-05 00:00:00+00:00  13319.639648              NaN\n",
            "2018-01-08 00:00:00+00:00  13367.780273              NaN\n"
          ]
        }
      ]
    },
    {
      "cell_type": "markdown",
      "source": [
        "### Save to a CSV file"
      ],
      "metadata": {
        "id": "4GZO5xgnE4IT"
      }
    },
    {
      "cell_type": "code",
      "source": [
        "gdaxi_data[['Close', 'Daily Return (%)']].to_csv(\"gdaxi_daily_returns_2018_2023.csv\")\n",
        "print(\"Daily returns saved to 'gdaxi_daily_returns_2018_2023.csv'\")"
      ],
      "metadata": {
        "colab": {
          "base_uri": "https://localhost:8080/",
          "height": 304
        },
        "id": "QF3q_Yz3E5jL",
        "outputId": "3cf22fd7-245d-4133-ccb5-07fd16e8c064"
      },
      "execution_count": 224,
      "outputs": [
        {
          "output_type": "error",
          "ename": "KeyError",
          "evalue": "\"['Close' 'Daily Return (%)'] not in index\"",
          "traceback": [
            "\u001b[0;31m---------------------------------------------------------------------------\u001b[0m",
            "\u001b[0;31mKeyError\u001b[0m                                  Traceback (most recent call last)",
            "\u001b[0;32m<ipython-input-224-3c009a701189>\u001b[0m in \u001b[0;36m<cell line: 1>\u001b[0;34m()\u001b[0m\n\u001b[0;32m----> 1\u001b[0;31m \u001b[0mgdaxi_data\u001b[0m\u001b[0;34m[\u001b[0m\u001b[0;34m[\u001b[0m\u001b[0;34m'Close'\u001b[0m\u001b[0;34m,\u001b[0m \u001b[0;34m'Daily Return (%)'\u001b[0m\u001b[0;34m]\u001b[0m\u001b[0;34m]\u001b[0m\u001b[0;34m.\u001b[0m\u001b[0mto_csv\u001b[0m\u001b[0;34m(\u001b[0m\u001b[0;34m\"gdaxi_daily_returns_2018_2023.csv\"\u001b[0m\u001b[0;34m)\u001b[0m\u001b[0;34m\u001b[0m\u001b[0;34m\u001b[0m\u001b[0m\n\u001b[0m\u001b[1;32m      2\u001b[0m \u001b[0mprint\u001b[0m\u001b[0;34m(\u001b[0m\u001b[0;34m\"Daily returns saved to 'gdaxi_daily_returns_2018_2023.csv'\"\u001b[0m\u001b[0;34m)\u001b[0m\u001b[0;34m\u001b[0m\u001b[0;34m\u001b[0m\u001b[0m\n",
            "\u001b[0;32m/usr/local/lib/python3.10/dist-packages/pandas/core/frame.py\u001b[0m in \u001b[0;36m__getitem__\u001b[0;34m(self, key)\u001b[0m\n\u001b[1;32m   4106\u001b[0m             \u001b[0;32mif\u001b[0m \u001b[0mis_iterator\u001b[0m\u001b[0;34m(\u001b[0m\u001b[0mkey\u001b[0m\u001b[0;34m)\u001b[0m\u001b[0;34m:\u001b[0m\u001b[0;34m\u001b[0m\u001b[0;34m\u001b[0m\u001b[0m\n\u001b[1;32m   4107\u001b[0m                 \u001b[0mkey\u001b[0m \u001b[0;34m=\u001b[0m \u001b[0mlist\u001b[0m\u001b[0;34m(\u001b[0m\u001b[0mkey\u001b[0m\u001b[0;34m)\u001b[0m\u001b[0;34m\u001b[0m\u001b[0;34m\u001b[0m\u001b[0m\n\u001b[0;32m-> 4108\u001b[0;31m             \u001b[0mindexer\u001b[0m \u001b[0;34m=\u001b[0m \u001b[0mself\u001b[0m\u001b[0;34m.\u001b[0m\u001b[0mcolumns\u001b[0m\u001b[0;34m.\u001b[0m\u001b[0m_get_indexer_strict\u001b[0m\u001b[0;34m(\u001b[0m\u001b[0mkey\u001b[0m\u001b[0;34m,\u001b[0m \u001b[0;34m\"columns\"\u001b[0m\u001b[0;34m)\u001b[0m\u001b[0;34m[\u001b[0m\u001b[0;36m1\u001b[0m\u001b[0;34m]\u001b[0m\u001b[0;34m\u001b[0m\u001b[0;34m\u001b[0m\u001b[0m\n\u001b[0m\u001b[1;32m   4109\u001b[0m \u001b[0;34m\u001b[0m\u001b[0m\n\u001b[1;32m   4110\u001b[0m         \u001b[0;31m# take() does not accept boolean indexers\u001b[0m\u001b[0;34m\u001b[0m\u001b[0;34m\u001b[0m\u001b[0m\n",
            "\u001b[0;32m/usr/local/lib/python3.10/dist-packages/pandas/core/indexes/multi.py\u001b[0m in \u001b[0;36m_get_indexer_strict\u001b[0;34m(self, key, axis_name)\u001b[0m\n\u001b[1;32m   2761\u001b[0m             \u001b[0mindexer\u001b[0m \u001b[0;34m=\u001b[0m \u001b[0mself\u001b[0m\u001b[0;34m.\u001b[0m\u001b[0m_get_indexer_level_0\u001b[0m\u001b[0;34m(\u001b[0m\u001b[0mkeyarr\u001b[0m\u001b[0;34m)\u001b[0m\u001b[0;34m\u001b[0m\u001b[0;34m\u001b[0m\u001b[0m\n\u001b[1;32m   2762\u001b[0m \u001b[0;34m\u001b[0m\u001b[0m\n\u001b[0;32m-> 2763\u001b[0;31m             \u001b[0mself\u001b[0m\u001b[0;34m.\u001b[0m\u001b[0m_raise_if_missing\u001b[0m\u001b[0;34m(\u001b[0m\u001b[0mkey\u001b[0m\u001b[0;34m,\u001b[0m \u001b[0mindexer\u001b[0m\u001b[0;34m,\u001b[0m \u001b[0maxis_name\u001b[0m\u001b[0;34m)\u001b[0m\u001b[0;34m\u001b[0m\u001b[0;34m\u001b[0m\u001b[0m\n\u001b[0m\u001b[1;32m   2764\u001b[0m             \u001b[0;32mreturn\u001b[0m \u001b[0mself\u001b[0m\u001b[0;34m[\u001b[0m\u001b[0mindexer\u001b[0m\u001b[0;34m]\u001b[0m\u001b[0;34m,\u001b[0m \u001b[0mindexer\u001b[0m\u001b[0;34m\u001b[0m\u001b[0;34m\u001b[0m\u001b[0m\n\u001b[1;32m   2765\u001b[0m \u001b[0;34m\u001b[0m\u001b[0m\n",
            "\u001b[0;32m/usr/local/lib/python3.10/dist-packages/pandas/core/indexes/multi.py\u001b[0m in \u001b[0;36m_raise_if_missing\u001b[0;34m(self, key, indexer, axis_name)\u001b[0m\n\u001b[1;32m   2779\u001b[0m                 \u001b[0mcmask\u001b[0m \u001b[0;34m=\u001b[0m \u001b[0mcheck\u001b[0m \u001b[0;34m==\u001b[0m \u001b[0;34m-\u001b[0m\u001b[0;36m1\u001b[0m\u001b[0;34m\u001b[0m\u001b[0;34m\u001b[0m\u001b[0m\n\u001b[1;32m   2780\u001b[0m                 \u001b[0;32mif\u001b[0m \u001b[0mcmask\u001b[0m\u001b[0;34m.\u001b[0m\u001b[0many\u001b[0m\u001b[0;34m(\u001b[0m\u001b[0;34m)\u001b[0m\u001b[0;34m:\u001b[0m\u001b[0;34m\u001b[0m\u001b[0;34m\u001b[0m\u001b[0m\n\u001b[0;32m-> 2781\u001b[0;31m                     \u001b[0;32mraise\u001b[0m \u001b[0mKeyError\u001b[0m\u001b[0;34m(\u001b[0m\u001b[0;34mf\"{keyarr[cmask]} not in index\"\u001b[0m\u001b[0;34m)\u001b[0m\u001b[0;34m\u001b[0m\u001b[0;34m\u001b[0m\u001b[0m\n\u001b[0m\u001b[1;32m   2782\u001b[0m                 \u001b[0;31m# We get here when levels still contain values which are not\u001b[0m\u001b[0;34m\u001b[0m\u001b[0;34m\u001b[0m\u001b[0m\n\u001b[1;32m   2783\u001b[0m                 \u001b[0;31m# actually in Index anymore\u001b[0m\u001b[0;34m\u001b[0m\u001b[0;34m\u001b[0m\u001b[0m\n",
            "\u001b[0;31mKeyError\u001b[0m: \"['Close' 'Daily Return (%)'] not in index\""
          ]
        }
      ]
    },
    {
      "cell_type": "markdown",
      "source": [
        "###  Rename variables in each file (Example: dji_Open,dji_Adjclose)\n",
        "Rename the columns\n",
        "\n",
        "### Define the symbol for Dow Jones and the date range"
      ],
      "metadata": {
        "id": "M-Ecr9JSFD9E"
      }
    },
    {
      "cell_type": "code",
      "source": [
        "symbol = \"^GDAXI\"\n",
        "start_date = \"2018-01-01\"\n",
        "end_date = \"2023-12-31\"\n",
        "gdaxi_data = yf.download(\"^GDAXI\", start=start_date, end=end_date, progress=False)"
      ],
      "metadata": {
        "id": "yupnBH1vFLi3"
      },
      "execution_count": 225,
      "outputs": []
    },
    {
      "cell_type": "code",
      "source": [],
      "metadata": {
        "id": "otq-bJ3OFFKc"
      },
      "execution_count": null,
      "outputs": []
    },
    {
      "cell_type": "markdown",
      "source": [
        "### Rename the columns"
      ],
      "metadata": {
        "id": "geK0E7ynFZ9Y"
      }
    },
    {
      "cell_type": "code",
      "source": [
        "renamed_columns = {\n",
        "        'Open': 'GDAXI_Open',\n",
        "        'High': 'GDAXI_High',\n",
        "        'Low': 'GDAXI_Low',\n",
        "        'Close': 'GDAXI_Close',\n",
        "        'Adj Close': 'GDAXI_Adj_Close',\n",
        "        'Volume': 'GDAXI_Volume'\n",
        "    }"
      ],
      "metadata": {
        "id": "WdNyxyOkFeLM"
      },
      "execution_count": 257,
      "outputs": []
    },
    {
      "cell_type": "code",
      "source": [
        " gdaxi_data.rename(columns=renamed_columns, inplace=True)"
      ],
      "metadata": {
        "id": "FuyXP6qBIBll"
      },
      "execution_count": 226,
      "outputs": []
    },
    {
      "cell_type": "markdown",
      "source": [
        "### Add daily returns column\n",
        "# Display the first few rows"
      ],
      "metadata": {
        "id": "flVQqKZ4Fqdu"
      }
    },
    {
      "cell_type": "code",
      "source": [
        "gdaxi_data['GDAXI_Daily_Return (%)'] = gdaxi_data['GDAXI_Close'].pct_change() * 100\n",
        "print(gdaxi_data.head())\n"
      ],
      "metadata": {
        "colab": {
          "base_uri": "https://localhost:8080/"
        },
        "id": "KV5SCvdNGrX5",
        "outputId": "4339872a-15a3-4cd7-f12b-8596c6c7fe05"
      },
      "execution_count": 265,
      "outputs": [
        {
          "output_type": "stream",
          "name": "stdout",
          "text": [
            "Price                     GDAXI_Adj_Close   GDAXI_Close    GDAXI_High  \\\n",
            "Ticker                             ^GDAXI        ^GDAXI        ^GDAXI   \n",
            "Date                                                                    \n",
            "2018-01-02 00:00:00+00:00    12871.389648  12871.389648  12924.160156   \n",
            "2018-01-03 00:00:00+00:00    12978.209961  12978.209961  13023.589844   \n",
            "2018-01-04 00:00:00+00:00    13167.889648  13167.889648  13208.349609   \n",
            "2018-01-05 00:00:00+00:00    13319.639648  13319.639648  13332.799805   \n",
            "2018-01-08 00:00:00+00:00    13367.780273  13367.780273  13407.820312   \n",
            "\n",
            "Price                         GDAXI_Low    GDAXI_Open GDAXI_Volume  \\\n",
            "Ticker                           ^GDAXI        ^GDAXI       ^GDAXI   \n",
            "Date                                                                 \n",
            "2018-01-02 00:00:00+00:00  12745.150391  12897.690430     86049300   \n",
            "2018-01-03 00:00:00+00:00  12893.049805  12916.179688     84809300   \n",
            "2018-01-04 00:00:00+00:00  13062.669922  13065.980469    101199400   \n",
            "2018-01-05 00:00:00+00:00  13219.110352  13219.110352    112555000   \n",
            "2018-01-08 00:00:00+00:00  13334.160156  13399.620117     95005300   \n",
            "\n",
            "Price                     GDAXI_Daily_Return (%)  \n",
            "Ticker                                            \n",
            "Date                                              \n",
            "2018-01-02 00:00:00+00:00                    NaN  \n",
            "2018-01-03 00:00:00+00:00                    NaN  \n",
            "2018-01-04 00:00:00+00:00                    NaN  \n",
            "2018-01-05 00:00:00+00:00                    NaN  \n",
            "2018-01-08 00:00:00+00:00                    NaN  \n"
          ]
        }
      ]
    },
    {
      "cell_type": "markdown",
      "source": [
        "### Save the modified data to a CSV file ####"
      ],
      "metadata": {
        "id": "qss_KARuGyg_"
      }
    },
    {
      "cell_type": "code",
      "source": [
        "gdaxi_data.to_csv(\"renamed_gdaxi_2018_2023.csv\")\n",
        "print(\"Renamed GDAXI data saved to 'renamed_gdaxi_2018_2023.csv'\")"
      ],
      "metadata": {
        "colab": {
          "base_uri": "https://localhost:8080/"
        },
        "id": "EDpeK-LQG1d5",
        "outputId": "56db167a-0aa4-41ef-92c9-d02494633f92"
      },
      "execution_count": 229,
      "outputs": [
        {
          "output_type": "stream",
          "name": "stdout",
          "text": [
            "Renamed GDAXI data saved to 'renamed_gdaxi_2018_2023.csv'\n"
          ]
        }
      ]
    },
    {
      "cell_type": "markdown",
      "source": [
        "6.Check if daily returns follow Normal distribution"
      ],
      "metadata": {
        "id": "HI_MrcCMIruw"
      }
    },
    {
      "cell_type": "code",
      "source": [
        "import yfinance as yf\n",
        "import pandas as pd\n",
        "import numpy as np\n",
        "import seaborn as sns\n",
        "import matplotlib.pyplot as plt\n",
        "from scipy.stats import shapiro, kstest, normaltest"
      ],
      "metadata": {
        "id": "wCjjaGivNq88"
      },
      "execution_count": 271,
      "outputs": []
    },
    {
      "cell_type": "markdown",
      "source": [
        "# Plot histogram of daily returns"
      ],
      "metadata": {
        "id": "Uv7KTKL2OehM"
      }
    },
    {
      "cell_type": "code",
      "source": [
        "plt.figure(figsize=(10, 6))\n",
        "sns.histplot(daily_returns, kde=True, bins=50, color='blue')\n",
        "plt.title(\"Histogram of DJI Daily Returns\")\n",
        "plt.xlabel(\"Daily Returns (%)\")\n",
        "plt.ylabel(\"Frequency\")\n",
        "plt.show()"
      ],
      "metadata": {
        "colab": {
          "base_uri": "https://localhost:8080/",
          "height": 564
        },
        "id": "JZ7Mb77wOgb4",
        "outputId": "034cb329-7dfd-4168-ef50-2b958846461f"
      },
      "execution_count": 272,
      "outputs": [
        {
          "output_type": "display_data",
          "data": {
            "text/plain": [
              "<Figure size 1000x600 with 1 Axes>"
            ],
            "image/png": "[encoded data removed]"
          },
          "metadata": {}
        }
      ]
    },
    {
      "cell_type": "markdown",
      "source": [
        "# Q-Q Plot"
      ],
      "metadata": {
        "id": "L3QDYBm_O2Iy"
      }
    },
    {
      "cell_type": "code",
      "source": [
        "from scipy.stats import probplot\n",
        "plt.title(\"Q-Q Plot for DJI Daily Returns\")\n",
        "plt.show()"
      ],
      "metadata": {
        "colab": {
          "base_uri": "https://localhost:8080/",
          "height": 452
        },
        "id": "XOGJqW6OO7Ks",
        "outputId": "c341f807-2277-435b-e72c-554266410137"
      },
      "execution_count": 278,
      "outputs": [
        {
          "output_type": "display_data",
          "data": {
            "text/plain": [
              "<Figure size 640x480 with 1 Axes>"
            ],
            "image/png": "[encoded data removed]"
          },
          "metadata": {}
        }
      ]
    },
    {
      "cell_type": "markdown",
      "source": [
        "\n",
        "    # Shapiro-Wilk Test"
      ],
      "metadata": {
        "id": "xdcdr1tMPffs"
      }
    },
    {
      "cell_type": "code",
      "source": [
        "stat, p = shapiro(daily_returns)\n",
        "print(f\"Shapiro-Wilk Test: Test Statistic = {stat}, p-value = {p}\")\n",
        "if p > 0.05:\n",
        "    print(\"The daily returns are likely normally distributed (Fail to reject H0).\")\n",
        "else:\n",
        "    print(\"The daily returns are not normally distributed (Reject H0).\")"
      ],
      "metadata": {
        "colab": {
          "base_uri": "https://localhost:8080/"
        },
        "id": "iFImFByBPhH8",
        "outputId": "5975a618-7327-4171-db17-f6d128456aac"
      },
      "execution_count": 280,
      "outputs": [
        {
          "output_type": "stream",
          "name": "stdout",
          "text": [
            "Shapiro-Wilk Test: Test Statistic = nan, p-value = nan\n",
            "The daily returns are not normally distributed (Reject H0).\n"
          ]
        }
      ]
    },
    {
      "cell_type": "markdown",
      "source": [
        "# Kolmogorov-Smirnov Test"
      ],
      "metadata": {
        "id": "1Ohw_aANPx1e"
      }
    },
    {
      "cell_type": "code",
      "source": [
        "ks_stat, ks_p = kstest(daily_returns, 'norm', args=(daily_returns.mean(), daily_returns.std()))\n",
        "print(f\"Kolmogorov-Smirnov Test: Test Statistic = {ks_stat}, p-value = {ks_p}\")\n",
        "if ks_p > 0.05:\n",
        "        print(\"The daily returns are likely normally distributed (Fail to reject H0).\")\n",
        "else:\n",
        "        print(\"The daily returns are not normally distributed (Reject H0).\")"
      ],
      "metadata": {
        "colab": {
          "base_uri": "https://localhost:8080/"
        },
        "id": "3FT7R0_kP1tg",
        "outputId": "36fb8260-6567-488d-9a31-8104004aa7cd"
      },
      "execution_count": 284,
      "outputs": [
        {
          "output_type": "stream",
          "name": "stdout",
          "text": [
            "Kolmogorov-Smirnov Test: Test Statistic = [nan], p-value = [nan]\n",
            "The daily returns are not normally distributed (Reject H0).\n"
          ]
        }
      ]
    },
    {
      "cell_type": "markdown",
      "source": [
        " # D’Agostino and Pearson’s Test"
      ],
      "metadata": {
        "id": "R5RhlTOrQElf"
      }
    },
    {
      "cell_type": "code",
      "source": [
        "dag_stat, dag_p = normaltest(daily_returns)\n",
        "print(f\"D’Agostino and Pearson Test: Test Statistic = {dag_stat}, p-value = {dag_p}\")\n",
        "if dag_p > 0.05:\n",
        "    print(\"The daily returns are likely normally distributed (Fail to reject H0).\")\n",
        "else:\n",
        "        print(\"The daily returns are not normally distributed (Reject H0).\")"
      ],
      "metadata": {
        "colab": {
          "base_uri": "https://localhost:8080/"
        },
        "id": "1LXgP7UhQF2T",
        "outputId": "7178fb13-2f37-40c2-f60b-4cea85f22a04"
      },
      "execution_count": 287,
      "outputs": [
        {
          "output_type": "stream",
          "name": "stdout",
          "text": [
            "D’Agostino and Pearson Test: Test Statistic = [nan], p-value = [nan]\n",
            "The daily returns are not normally distributed (Reject H0).\n"
          ]
        }
      ]
    },
    {
      "cell_type": "markdown",
      "source": [
        "8.\tMerge all the above files with outer join (note that holidays are different globally)"
      ],
      "metadata": {
        "id": "QCEDdFcvINwd"
      }
    },
    {
      "cell_type": "code",
      "source": [
        "import pandas as pd"
      ],
      "metadata": {
        "id": "7kuDNtNGIVeU"
      },
      "execution_count": 230,
      "outputs": []
    },
    {
      "cell_type": "markdown",
      "source": [
        "## determine the file path for all files"
      ],
      "metadata": {
        "id": "QRVvsixFIckU"
      }
    },
    {
      "cell_type": "code",
      "source": [
        "file_dji = \"renamed_dji_2018_2023.csv\"\n",
        "file_ftse = \"renamed_ftse_2018_2023.csv\"\n",
        "file_hsi = \"renamed_hsi_2018_2023.csv\"\n",
        "file_n225 = \"renamed_n225_2018_2023.csv\"\n",
        "file_gdaxi = \"renamed_gdaxi_2018_2023.csv\"\n"
      ],
      "metadata": {
        "id": "NsXMztwAKHoe"
      },
      "execution_count": 240,
      "outputs": []
    },
    {
      "cell_type": "code",
      "source": [
        "dji_data = pd.read_csv(\"renamed_dji_2018_2023.csv\", parse_dates=[\"Date\"], index_col=\"Date\")\n",
        "print"
      ],
      "metadata": {
        "colab": {
          "base_uri": "https://localhost:8080/",
          "height": 287
        },
        "id": "23vazLwTO_EF",
        "outputId": "ba466846-41ea-44b1-d67a-a278fe828f62"
      },
      "execution_count": 252,
      "outputs": [
        {
          "output_type": "error",
          "ename": "ValueError",
          "evalue": "Missing column provided to 'parse_dates': 'Date'",
          "traceback": [
            "\u001b[0;31m---------------------------------------------------------------------------\u001b[0m",
            "\u001b[0;31mValueError\u001b[0m                                Traceback (most recent call last)",
            "\u001b[0;32m<ipython-input-252-70989ba5bb98>\u001b[0m in \u001b[0;36m<cell line: 1>\u001b[0;34m()\u001b[0m\n\u001b[0;32m----> 1\u001b[0;31m \u001b[0mdji_data\u001b[0m \u001b[0;34m=\u001b[0m \u001b[0mpd\u001b[0m\u001b[0;34m.\u001b[0m\u001b[0mread_csv\u001b[0m\u001b[0;34m(\u001b[0m\u001b[0;34m\"renamed_dji_2018_2023.csv\"\u001b[0m\u001b[0;34m,\u001b[0m \u001b[0mparse_dates\u001b[0m\u001b[0;34m=\u001b[0m\u001b[0;34m[\u001b[0m\u001b[0;34m\"Date\"\u001b[0m\u001b[0;34m]\u001b[0m\u001b[0;34m,\u001b[0m \u001b[0mindex_col\u001b[0m\u001b[0;34m=\u001b[0m\u001b[0;34m\"Date\"\u001b[0m\u001b[0;34m)\u001b[0m\u001b[0;34m\u001b[0m\u001b[0;34m\u001b[0m\u001b[0m\n\u001b[0m",
            "\u001b[0;32m/usr/local/lib/python3.10/dist-packages/pandas/io/parsers/readers.py\u001b[0m in \u001b[0;36mread_csv\u001b[0;34m(filepath_or_buffer, sep, delimiter, header, names, index_col, usecols, dtype, engine, converters, true_values, false_values, skipinitialspace, skiprows, skipfooter, nrows, na_values, keep_default_na, na_filter, verbose, skip_blank_lines, parse_dates, infer_datetime_format, keep_date_col, date_parser, date_format, dayfirst, cache_dates, iterator, chunksize, compression, thousands, decimal, lineterminator, quotechar, quoting, doublequote, escapechar, comment, encoding, encoding_errors, dialect, on_bad_lines, delim_whitespace, low_memory, memory_map, float_precision, storage_options, dtype_backend)\u001b[0m\n\u001b[1;32m   1024\u001b[0m     \u001b[0mkwds\u001b[0m\u001b[0;34m.\u001b[0m\u001b[0mupdate\u001b[0m\u001b[0;34m(\u001b[0m\u001b[0mkwds_defaults\u001b[0m\u001b[0;34m)\u001b[0m\u001b[0;34m\u001b[0m\u001b[0;34m\u001b[0m\u001b[0m\n\u001b[1;32m   1025\u001b[0m \u001b[0;34m\u001b[0m\u001b[0m\n\u001b[0;32m-> 1026\u001b[0;31m     \u001b[0;32mreturn\u001b[0m \u001b[0m_read\u001b[0m\u001b[0;34m(\u001b[0m\u001b[0mfilepath_or_buffer\u001b[0m\u001b[0;34m,\u001b[0m \u001b[0mkwds\u001b[0m\u001b[0;34m)\u001b[0m\u001b[0;34m\u001b[0m\u001b[0;34m\u001b[0m\u001b[0m\n\u001b[0m\u001b[1;32m   1027\u001b[0m \u001b[0;34m\u001b[0m\u001b[0m\n\u001b[1;32m   1028\u001b[0m \u001b[0;34m\u001b[0m\u001b[0m\n",
            "\u001b[0;32m/usr/local/lib/python3.10/dist-packages/pandas/io/parsers/readers.py\u001b[0m in \u001b[0;36m_read\u001b[0;34m(filepath_or_buffer, kwds)\u001b[0m\n\u001b[1;32m    618\u001b[0m \u001b[0;34m\u001b[0m\u001b[0m\n\u001b[1;32m    619\u001b[0m     \u001b[0;31m# Create the parser.\u001b[0m\u001b[0;34m\u001b[0m\u001b[0;34m\u001b[0m\u001b[0m\n\u001b[0;32m--> 620\u001b[0;31m     \u001b[0mparser\u001b[0m \u001b[0;34m=\u001b[0m \u001b[0mTextFileReader\u001b[0m\u001b[0;34m(\u001b[0m\u001b[0mfilepath_or_buffer\u001b[0m\u001b[0;34m,\u001b[0m \u001b[0;34m**\u001b[0m\u001b[0mkwds\u001b[0m\u001b[0;34m)\u001b[0m\u001b[0;34m\u001b[0m\u001b[0;34m\u001b[0m\u001b[0m\n\u001b[0m\u001b[1;32m    621\u001b[0m \u001b[0;34m\u001b[0m\u001b[0m\n\u001b[1;32m    622\u001b[0m     \u001b[0;32mif\u001b[0m \u001b[0mchunksize\u001b[0m \u001b[0;32mor\u001b[0m \u001b[0miterator\u001b[0m\u001b[0;34m:\u001b[0m\u001b[0;34m\u001b[0m\u001b[0;34m\u001b[0m\u001b[0m\n",
            "\u001b[0;32m/usr/local/lib/python3.10/dist-packages/pandas/io/parsers/readers.py\u001b[0m in \u001b[0;36m__init__\u001b[0;34m(self, f, engine, **kwds)\u001b[0m\n\u001b[1;32m   1618\u001b[0m \u001b[0;34m\u001b[0m\u001b[0m\n\u001b[1;32m   1619\u001b[0m         \u001b[0mself\u001b[0m\u001b[0;34m.\u001b[0m\u001b[0mhandles\u001b[0m\u001b[0;34m:\u001b[0m \u001b[0mIOHandles\u001b[0m \u001b[0;34m|\u001b[0m \u001b[0;32mNone\u001b[0m \u001b[0;34m=\u001b[0m \u001b[0;32mNone\u001b[0m\u001b[0;34m\u001b[0m\u001b[0;34m\u001b[0m\u001b[0m\n\u001b[0;32m-> 1620\u001b[0;31m         \u001b[0mself\u001b[0m\u001b[0;34m.\u001b[0m\u001b[0m_engine\u001b[0m \u001b[0;34m=\u001b[0m \u001b[0mself\u001b[0m\u001b[0;34m.\u001b[0m\u001b[0m_make_engine\u001b[0m\u001b[0;34m(\u001b[0m\u001b[0mf\u001b[0m\u001b[0;34m,\u001b[0m \u001b[0mself\u001b[0m\u001b[0;34m.\u001b[0m\u001b[0mengine\u001b[0m\u001b[0;34m)\u001b[0m\u001b[0;34m\u001b[0m\u001b[0;34m\u001b[0m\u001b[0m\n\u001b[0m\u001b[1;32m   1621\u001b[0m \u001b[0;34m\u001b[0m\u001b[0m\n\u001b[1;32m   1622\u001b[0m     \u001b[0;32mdef\u001b[0m \u001b[0mclose\u001b[0m\u001b[0;34m(\u001b[0m\u001b[0mself\u001b[0m\u001b[0;34m)\u001b[0m \u001b[0;34m->\u001b[0m \u001b[0;32mNone\u001b[0m\u001b[0;34m:\u001b[0m\u001b[0;34m\u001b[0m\u001b[0;34m\u001b[0m\u001b[0m\n",
            "\u001b[0;32m/usr/local/lib/python3.10/dist-packages/pandas/io/parsers/readers.py\u001b[0m in \u001b[0;36m_make_engine\u001b[0;34m(self, f, engine)\u001b[0m\n\u001b[1;32m   1896\u001b[0m \u001b[0;34m\u001b[0m\u001b[0m\n\u001b[1;32m   1897\u001b[0m         \u001b[0;32mtry\u001b[0m\u001b[0;34m:\u001b[0m\u001b[0;34m\u001b[0m\u001b[0;34m\u001b[0m\u001b[0m\n\u001b[0;32m-> 1898\u001b[0;31m             \u001b[0;32mreturn\u001b[0m \u001b[0mmapping\u001b[0m\u001b[0;34m[\u001b[0m\u001b[0mengine\u001b[0m\u001b[0;34m]\u001b[0m\u001b[0;34m(\u001b[0m\u001b[0mf\u001b[0m\u001b[0;34m,\u001b[0m \u001b[0;34m**\u001b[0m\u001b[0mself\u001b[0m\u001b[0;34m.\u001b[0m\u001b[0moptions\u001b[0m\u001b[0;34m)\u001b[0m\u001b[0;34m\u001b[0m\u001b[0;34m\u001b[0m\u001b[0m\n\u001b[0m\u001b[1;32m   1899\u001b[0m         \u001b[0;32mexcept\u001b[0m \u001b[0mException\u001b[0m\u001b[0;34m:\u001b[0m\u001b[0;34m\u001b[0m\u001b[0;34m\u001b[0m\u001b[0m\n\u001b[1;32m   1900\u001b[0m             \u001b[0;32mif\u001b[0m \u001b[0mself\u001b[0m\u001b[0;34m.\u001b[0m\u001b[0mhandles\u001b[0m \u001b[0;32mis\u001b[0m \u001b[0;32mnot\u001b[0m \u001b[0;32mNone\u001b[0m\u001b[0;34m:\u001b[0m\u001b[0;34m\u001b[0m\u001b[0;34m\u001b[0m\u001b[0m\n",
            "\u001b[0;32m/usr/local/lib/python3.10/dist-packages/pandas/io/parsers/c_parser_wrapper.py\u001b[0m in \u001b[0;36m__init__\u001b[0;34m(self, src, **kwds)\u001b[0m\n\u001b[1;32m    159\u001b[0m \u001b[0;34m\u001b[0m\u001b[0m\n\u001b[1;32m    160\u001b[0m         \u001b[0;31m# error: Cannot determine type of 'names'\u001b[0m\u001b[0;34m\u001b[0m\u001b[0;34m\u001b[0m\u001b[0m\n\u001b[0;32m--> 161\u001b[0;31m         \u001b[0mself\u001b[0m\u001b[0;34m.\u001b[0m\u001b[0m_validate_parse_dates_presence\u001b[0m\u001b[0;34m(\u001b[0m\u001b[0mself\u001b[0m\u001b[0;34m.\u001b[0m\u001b[0mnames\u001b[0m\u001b[0;34m)\u001b[0m  \u001b[0;31m# type: ignore[has-type]\u001b[0m\u001b[0;34m\u001b[0m\u001b[0;34m\u001b[0m\u001b[0m\n\u001b[0m\u001b[1;32m    162\u001b[0m         \u001b[0mself\u001b[0m\u001b[0;34m.\u001b[0m\u001b[0m_set_noconvert_columns\u001b[0m\u001b[0;34m(\u001b[0m\u001b[0;34m)\u001b[0m\u001b[0;34m\u001b[0m\u001b[0;34m\u001b[0m\u001b[0m\n\u001b[1;32m    163\u001b[0m \u001b[0;34m\u001b[0m\u001b[0m\n",
            "\u001b[0;32m/usr/local/lib/python3.10/dist-packages/pandas/io/parsers/base_parser.py\u001b[0m in \u001b[0;36m_validate_parse_dates_presence\u001b[0;34m(self, columns)\u001b[0m\n\u001b[1;32m    241\u001b[0m         )\n\u001b[1;32m    242\u001b[0m         \u001b[0;32mif\u001b[0m \u001b[0mmissing_cols\u001b[0m\u001b[0;34m:\u001b[0m\u001b[0;34m\u001b[0m\u001b[0;34m\u001b[0m\u001b[0m\n\u001b[0;32m--> 243\u001b[0;31m             raise ValueError(\n\u001b[0m\u001b[1;32m    244\u001b[0m                 \u001b[0;34mf\"Missing column provided to 'parse_dates': '{missing_cols}'\"\u001b[0m\u001b[0;34m\u001b[0m\u001b[0;34m\u001b[0m\u001b[0m\n\u001b[1;32m    245\u001b[0m             )\n",
            "\u001b[0;31mValueError\u001b[0m: Missing column provided to 'parse_dates': 'Date'"
          ]
        }
      ]
    },
    {
      "cell_type": "code",
      "source": [],
      "metadata": {
        "id": "xsN2AC1ZO7oz"
      },
      "execution_count": null,
      "outputs": []
    },
    {
      "cell_type": "code",
      "source": [],
      "metadata": {
        "id": "cD6D0L27KEGS"
      },
      "execution_count": null,
      "outputs": []
    }
  ]
}